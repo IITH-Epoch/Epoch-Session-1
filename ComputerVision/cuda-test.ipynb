{
 "cells": [
  {
   "cell_type": "code",
   "execution_count": 19,
   "metadata": {},
   "outputs": [],
   "source": [
    "import torch\n",
    "import torchvision\n",
    "import torchvision.transforms as transforms\n",
    "import matplotlib.pyplot as plt\n",
    "from torch.utils.data import DataLoader,Dataset\n",
    "import numpy as np\n",
    "import torch.nn as nn\n",
    "import torch.nn.functional as F\n",
    "import time"
   ]
  },
  {
   "cell_type": "code",
   "execution_count": 20,
   "metadata": {},
   "outputs": [
    {
     "data": {
      "text/plain": [
       "<torch._C.Generator at 0x7f0330504e30>"
      ]
     },
     "execution_count": 20,
     "metadata": {},
     "output_type": "execute_result"
    }
   ],
   "source": [
    "device = torch.device(\"cuda\" if torch.cuda.is_available() else \"cpu\")\n",
    "torch.manual_seed(1)"
   ]
  },
  {
   "cell_type": "code",
   "execution_count": 21,
   "metadata": {},
   "outputs": [
    {
     "name": "stdout",
     "output_type": "stream",
     "text": [
      "torch.Size([64, 1, 28, 28])\n"
     ]
    },
    {
     "data": {
      "image/png": "[encoded data removed]",
      "text/plain": [
       "<Figure size 432x288 with 1 Axes>"
      ]
     },
     "metadata": {
      "needs_background": "light"
     },
     "output_type": "display_data"
    }
   ],
   "source": [
    "MNIST_data = torchvision.datasets.MNIST(root= './Datasets', download=True, transform = transforms.Compose([transforms.ToTensor(),\\\n",
    "transforms.Normalize((0.1307,), (0.3081, )) ]))\n",
    "data_loader = DataLoader(MNIST_data, batch_size=64, shuffle = True)\n",
    "test_loader = DataLoader(torchvision.datasets.MNIST('./Datasets', train=False, download=True,\n",
    "                             transform=torchvision.transforms.Compose([\n",
    "                               torchvision.transforms.ToTensor(),\n",
    "                               torchvision.transforms.Normalize(\n",
    "                                 (0.1307,), (0.3081,))\n",
    "                             ])), batch_size=10, shuffle = True)\n",
    "iterator = iter(data_loader)\n",
    "images, labels = iterator.next()\n",
    "plt.imshow(images[5].reshape(28, 28), cmap = \"gray\")\n",
    "print(images.shape)"
   ]
  },
  {
   "cell_type": "code",
   "execution_count": 22,
   "metadata": {},
   "outputs": [
    {
     "name": "stdout",
     "output_type": "stream",
     "text": [
      "tensor([1.4850, 0.3013, 2.1469, 0.9632, 2.8088, 0.9632, 0.3777, 2.8088, 0.1613,\n",
      "        0.1104, 1.7523, 0.1740, 0.5049, 2.8088, 0.6959, 1.6887, 2.8088, 0.9632,\n",
      "        0.5049, 2.8088, 0.9632, 2.3505, 2.8215, 0.8359, 0.5049, 2.8088, 0.0340,\n",
      "        2.7324, 2.4142, 1.0395, 2.8088, 0.0340, 0.7086, 2.8088, 1.9560, 1.4214,\n",
      "        2.3505, 1.7523, 2.7960, 0.3777, 2.0832, 2.0832, 2.5415, 2.8088, 0.0467,\n",
      "        0.0467, 2.8088, 1.4214, 1.0395, 2.7960, 2.7960, 2.8088, 2.4015, 1.6887,\n",
      "        0.6322, 0.0467, 2.7960, 1.4214, 1.4214, 2.8088, 1.0904, 1.1668, 1.6887,\n",
      "        2.5542, 2.8088, 2.8088, 2.2742, 2.2869, 2.8088, 1.1032, 1.4214, 2.7960,\n",
      "        0.0340, 1.3450, 1.3450, 1.6123, 2.5415, 2.7960, 2.8088, 2.6687, 0.1104,\n",
      "        0.9123, 1.8160, 2.5542, 2.1469, 0.1104, 2.8088, 1.3450, 1.0395, 2.8088,\n",
      "        0.3013, 2.3378, 2.4142, 2.3505, 1.9560, 2.3378, 1.4214])\n"
     ]
    }
   ],
   "source": [
    "print(images[0][0][np.where(images[0].reshape(28, 28) > 0)])"
   ]
  },
  {
   "cell_type": "code",
   "execution_count": 23,
   "metadata": {},
   "outputs": [
    {
     "name": "stdout",
     "output_type": "stream",
     "text": [
      "cuda:0\n"
     ]
    }
   ],
   "source": [
    "vec  =  torch.tensor([1.0,2.0,3.0], dtype=torch.float32).cuda()\n",
    "print((vec.device))"
   ]
  },
  {
   "cell_type": "code",
   "execution_count": 24,
   "metadata": {},
   "outputs": [
    {
     "data": {
      "image/png": "[encoded data removed]",
      "text/plain": [
       "<Figure size 432x288 with 6 Axes>"
      ]
     },
     "metadata": {
      "needs_background": "light"
     },
     "output_type": "display_data"
    }
   ],
   "source": [
    "fig = plt.figure()\n",
    "for i in range(6):\n",
    "  plt.subplot(2,3,i+1)\n",
    "  plt.tight_layout()\n",
    "  plt.imshow(images[i][0], cmap='gray', interpolation='none')\n",
    "  plt.title(\"Ground Truth: {}\".format(labels[i]))\n",
    "#   plt.xticks([])\n",
    "#   plt.yticks([])"
   ]
  },
  {
   "cell_type": "code",
   "execution_count": 25,
   "metadata": {},
   "outputs": [
    {
     "data": {
      "text/plain": [
       "0"
      ]
     },
     "execution_count": 25,
     "metadata": {},
     "output_type": "execute_result"
    }
   ],
   "source": [
    "torch.cuda.current_device()"
   ]
  },
  {
   "cell_type": "code",
   "execution_count": 26,
   "metadata": {},
   "outputs": [
    {
     "data": {
      "text/plain": [
       "'NVIDIA GeForce GTX 1650 with Max-Q Design'"
      ]
     },
     "execution_count": 26,
     "metadata": {},
     "output_type": "execute_result"
    }
   ],
   "source": [
    "torch.cuda.get_device_name(0)"
   ]
  },
  {
   "cell_type": "code",
   "execution_count": 27,
   "metadata": {},
   "outputs": [
    {
     "data": {
      "text/plain": [
       "529280000"
      ]
     },
     "execution_count": 27,
     "metadata": {},
     "output_type": "execute_result"
    }
   ],
   "source": [
    "torch.cuda.memory_allocated()"
   ]
  },
  {
   "cell_type": "code",
   "execution_count": 28,
   "metadata": {},
   "outputs": [],
   "source": [
    "class net(torch.nn.Module):\n",
    "    def __init__(self):\n",
    "        super(net, self).__init__()\n",
    "        self.conv1 = nn.Conv2d(1, 10 , kernel_size=5)\n",
    "        self.conv2 = nn.Conv2d(10, 20, kernel_size=5)\n",
    "        self.conv2_drop = nn.Dropout2d()\n",
    "        self.fc1 = nn.Linear(320, 50)\n",
    "        self.fc2 = nn.Linear(50, 10)\n",
    "    def forward(self, x):\n",
    "        x = F.relu(F.max_pool2d(self.conv1(x), 2))\n",
    "        x = F.relu(F.max_pool2d(self.conv2_drop(self.conv2(x)), 2))\n",
    "        x = x.view(-1, 320) \n",
    "        x = F.relu(self.fc1(x))\n",
    "        x = F.dropout(x, training= self.training) # this dropout obviously occurs ony during the training phase\n",
    "        x = self.fc2(x) # => ooutput will be n , 10 \n",
    "        return F.log_softmax(x)"
   ]
  },
  {
   "cell_type": "code",
   "execution_count": 29,
   "metadata": {},
   "outputs": [
    {
     "name": "stdout",
     "output_type": "stream",
     "text": [
      "True\n",
      "<class 'torch.nn.parameter.Parameter'>\n"
     ]
    }
   ],
   "source": [
    "NeuralNet = net().to(device)\n",
    "status = next(NeuralNet.parameters()).is_cuda\n",
    "dtype = type(next(NeuralNet.parameters()))\n",
    "print(status)\n",
    "print(dtype)\n",
    "opt = torch.optim.SGD(NeuralNet.parameters(), lr = 1.2e-3)\n",
    "log_interval = 100\n",
    "train_loss_history= []\n",
    "train_counter= []\n",
    "test_loss_history = []\n",
    "test_counter = []\n",
    "#amazing way of storing the losses , using the batch id !\n",
    "\n"
   ]
  },
  {
   "cell_type": "code",
   "execution_count": 30,
   "metadata": {},
   "outputs": [
    {
     "data": {
      "text/plain": [
       "473600"
      ]
     },
     "execution_count": 30,
     "metadata": {},
     "output_type": "execute_result"
    }
   ],
   "source": [
    "torch.cuda.memory_allocated()"
   ]
  },
  {
   "cell_type": "code",
   "execution_count": 31,
   "metadata": {},
   "outputs": [],
   "source": [
    "def train(epoch):\n",
    "    #every element in images is a batch, the data loader gives you a batch outside!\n",
    "    NeuralNet.train() # sets the training mode !\n",
    "    for batch_id,(batch,labels) in enumerate(data_loader):\n",
    "        batch = batch.to(device)\n",
    "        labels = labels.to(device)\n",
    "        opt.zero_grad() ###super important, work with the optimizer instead of the model\n",
    "        y_pred = NeuralNet(batch)\n",
    "        loss_fn = F.nll_loss # => this takes the class number !!\n",
    "        loss = loss_fn(y_pred,labels)\n",
    "        loss.backward()\n",
    "        opt.step()\n",
    "        if(batch_id % log_interval == 0):\n",
    "            counter = 64*(batch_id)  + (epoch - 1)*len(data_loader.dataset) #very cool , what is this train_loader.dataset ( prolly only the second part)\n",
    "            train_loss_history.append(loss.item())\n",
    "            print(\"Epoch = %d, training counter = %d, training loss = %.6f, \"%(epoch,counter,loss.item()))\n",
    "            train_counter.append(counter)    \n"
   ]
  },
  {
   "cell_type": "code",
   "execution_count": 32,
   "metadata": {},
   "outputs": [],
   "source": [
    "def test():\n",
    "    NeuralNet.eval() #this is now in evaluation mode \n",
    "    loss = 0\n",
    "    correct = 0\n",
    "    avg_loss = 0\n",
    "    for test_data, labels in test_loader:\n",
    "        test_data = test_data.to(device)\n",
    "        labels = labels.to(device)\n",
    "        preds = NeuralNet(test_data)\n",
    "        loss = F.nll_loss(preds,labels)\n",
    "        correct = correct + (torch.argmax(preds, axis = 1) == labels).sum()\n",
    "        avg_loss += loss/len(test_loader.dataset)\n",
    "        test_loss_history.append(loss)\n",
    "    print('\\nTest set: Avg. loss: {:.4f}, Accuracy: {}/{} ({:.0f}%)\\n'.format(\n",
    "    loss, correct, len(test_loader.dataset),\n",
    "    100. * correct / len(test_loader.dataset)))\n"
   ]
  },
  {
   "cell_type": "code",
   "execution_count": 33,
   "metadata": {},
   "outputs": [
    {
     "data": {
      "text/plain": [
       "10000"
      ]
     },
     "execution_count": 33,
     "metadata": {},
     "output_type": "execute_result"
    }
   ],
   "source": [
    "len(test_loader.dataset)"
   ]
  },
  {
   "cell_type": "code",
   "execution_count": 34,
   "metadata": {},
   "outputs": [
    {
     "data": {
      "text/plain": [
       "torch.Size([1])"
      ]
     },
     "execution_count": 34,
     "metadata": {},
     "output_type": "execute_result"
    }
   ],
   "source": [
    "F.nll_loss(torch.randn(3, 5), torch.tensor([1, 2, 3]))# at least one dimension must match! \n",
    "torch.argmax(torch.tensor([1, 2, 3]) , axis = 0, keepdim = True).shape "
   ]
  },
  {
   "cell_type": "code",
   "execution_count": 35,
   "metadata": {},
   "outputs": [
    {
     "data": {
      "text/plain": [
       "True"
      ]
     },
     "execution_count": 35,
     "metadata": {},
     "output_type": "execute_result"
    }
   ],
   "source": [
    "torch.cuda.is_available()"
   ]
  },
  {
   "cell_type": "code",
   "execution_count": 36,
   "metadata": {},
   "outputs": [
    {
     "name": "stdout",
     "output_type": "stream",
     "text": [
      "cuda\n"
     ]
    },
    {
     "name": "stderr",
     "output_type": "stream",
     "text": [
      "/tmp/ipykernel_51949/3904927278.py:16: UserWarning: Implicit dimension choice for log_softmax has been deprecated. Change the call to include dim=X as an argument.\n",
      "  return F.log_softmax(x)\n"
     ]
    },
    {
     "name": "stdout",
     "output_type": "stream",
     "text": [
      "\n",
      "Test set: Avg. loss: 2.3798, Accuracy: 924/10000 (9%)\n",
      "\n",
      "Epoch = 1, training counter = 0, training loss = 2.370609, \n",
      "Epoch = 1, training counter = 6400, training loss = 2.323224, \n",
      "Epoch = 1, training counter = 12800, training loss = 2.262030, \n",
      "Epoch = 1, training counter = 19200, training loss = 2.310419, \n",
      "Epoch = 1, training counter = 25600, training loss = 2.276370, \n",
      "Epoch = 1, training counter = 32000, training loss = 2.263020, \n",
      "Epoch = 1, training counter = 38400, training loss = 2.262197, \n",
      "Epoch = 1, training counter = 44800, training loss = 2.234089, \n",
      "Epoch = 1, training counter = 51200, training loss = 2.217212, \n",
      "Epoch = 1, training counter = 57600, training loss = 2.240357, \n",
      "time taken for epoch number  1 9.213939666748047\n",
      "\n",
      "Test set: Avg. loss: 2.1658, Accuracy: 5257/10000 (53%)\n",
      "\n",
      "Epoch = 2, training counter = 60000, training loss = 2.213890, \n",
      "Epoch = 2, training counter = 66400, training loss = 2.192181, \n",
      "Epoch = 2, training counter = 72800, training loss = 2.185839, \n",
      "Epoch = 2, training counter = 79200, training loss = 2.122845, \n",
      "Epoch = 2, training counter = 85600, training loss = 2.009122, \n",
      "Epoch = 2, training counter = 92000, training loss = 1.993603, \n",
      "Epoch = 2, training counter = 98400, training loss = 2.004005, \n",
      "Epoch = 2, training counter = 104800, training loss = 1.830422, \n",
      "Epoch = 2, training counter = 111200, training loss = 1.825969, \n",
      "Epoch = 2, training counter = 117600, training loss = 1.636619, \n",
      "time taken for epoch number  2 9.19489073753357\n",
      "\n",
      "Test set: Avg. loss: 1.4850, Accuracy: 7134/10000 (71%)\n",
      "\n",
      "Epoch = 3, training counter = 120000, training loss = 1.739379, \n",
      "Epoch = 3, training counter = 126400, training loss = 1.615515, \n",
      "Epoch = 3, training counter = 132800, training loss = 1.377964, \n",
      "Epoch = 3, training counter = 139200, training loss = 1.471748, \n",
      "Epoch = 3, training counter = 145600, training loss = 1.474239, \n",
      "Epoch = 3, training counter = 152000, training loss = 1.310232, \n",
      "Epoch = 3, training counter = 158400, training loss = 1.232584, \n",
      "Epoch = 3, training counter = 164800, training loss = 1.266580, \n",
      "Epoch = 3, training counter = 171200, training loss = 1.120335, \n",
      "Epoch = 3, training counter = 177600, training loss = 1.254521, \n",
      "time taken for epoch number  3 9.179725646972656\n",
      "\n",
      "Test set: Avg. loss: 0.7224, Accuracy: 8337/10000 (83%)\n",
      "\n"
     ]
    }
   ],
   "source": [
    "# for batch_id,(batch_data, labels) in enumerate(data_loader):\n",
    "#     print(torch.argmax(NeuralNet(batch_data), axis = 1)== labels) #turns out the keepdim will keep the dim !, dont use keepdim unless necessary !\n",
    "print(device)\n",
    "test()\n",
    "num_epochs = 3\n",
    "for epoch in range(1,num_epochs + 1):\n",
    "    start_time = time.time()\n",
    "    train(epoch)\n",
    "    end_time = time.time()\n",
    "    print(\"time taken for epoch number \", epoch, end_time - start_time)\n",
    "    test()\n"
   ]
  },
  {
   "cell_type": "code",
   "execution_count": 37,
   "metadata": {},
   "outputs": [
    {
     "name": "stderr",
     "output_type": "stream",
     "text": [
      "/tmp/ipykernel_51949/3904927278.py:16: UserWarning: Implicit dimension choice for log_softmax has been deprecated. Change the call to include dim=X as an argument.\n",
      "  return F.log_softmax(x)\n"
     ]
    },
    {
     "name": "stdout",
     "output_type": "stream",
     "text": [
      "\n",
      "Test set: Avg. loss: 0.7518, Accuracy: 8337/10000 (83%)\n",
      "\n"
     ]
    }
   ],
   "source": [
    "test()"
   ]
  },
  {
   "cell_type": "code",
   "execution_count": 38,
   "metadata": {},
   "outputs": [
    {
     "name": "stdout",
     "output_type": "stream",
     "text": [
      "<class 'list'>\n"
     ]
    },
    {
     "data": {
      "text/plain": [
       "Text(0.5, 1.0, 'Training Loss per batch versus number of examples seen')"
      ]
     },
     "execution_count": 38,
     "metadata": {},
     "output_type": "execute_result"
    },
    {
     "data": {
      "image/png": "[encoded data removed]",
      "text/plain": [
       "<Figure size 432x288 with 1 Axes>"
      ]
     },
     "metadata": {
      "needs_background": "light"
     },
     "output_type": "display_data"
    }
   ],
   "source": [
    "plt.plot(train_counter, train_loss_history)\n",
    "print(type(train_counter))\n",
    "plt.title(\"Training Loss per batch versus number of examples seen\")"
   ]
  },
  {
   "cell_type": "code",
   "execution_count": 39,
   "metadata": {},
   "outputs": [],
   "source": [
    "# for batch_id,(_,_) in enumerate(data_loader):\n",
    "#     print(batch_id) # 0 - indexd !\n",
    "import matplotlib.pyplot  as plt2\n",
    "listx = [i for i in range(1, len(test_loss_history) + 1)]\n"
   ]
  }
 ],
 "metadata": {
  "kernelspec": {
   "display_name": "Python 3.9.13 ('adaenv')",
   "language": "python",
   "name": "python3"
  },
  "language_info": {
   "codemirror_mode": {
    "name": "ipython",
    "version": 3
   },
   "file_extension": ".py",
   "mimetype": "text/x-python",
   "name": "python",
   "nbconvert_exporter": "python",
   "pygments_lexer": "ipython3",
   "version": "3.9.13"
  },
  "orig_nbformat": 4,
  "vscode": {
   "interpreter": {
    "hash": "3b4875b0c0e5921500ba89c3f7c140a0122aaa6b3aec3bf88d6de6cfd93ac7ec"
   }
  }
 },
 "nbformat": 4,
 "nbformat_minor": 2
}
