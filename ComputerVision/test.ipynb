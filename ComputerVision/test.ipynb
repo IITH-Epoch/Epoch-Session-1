{
 "cells": [
  {
   "cell_type": "code",
   "execution_count": 1,
   "metadata": {},
   "outputs": [
    {
     "name": "stderr",
     "output_type": "stream",
     "text": [
      "/home/cmaspi/.local/share/virtualenvs/Epoch-Session-1-enjpTgp5/lib/python3.10/site-packages/tqdm/auto.py:22: TqdmWarning: IProgress not found. Please update jupyter and ipywidgets. See https://ipywidgets.readthedocs.io/en/stable/user_install.html\n",
      "  from .autonotebook import tqdm as notebook_tqdm\n"
     ]
    }
   ],
   "source": [
    "import torch\n",
    "import torchvision\n",
    "import torchvision.transforms as transforms\n",
    "import matplotlib.pyplot as plt\n",
    "from torch.utils.data import DataLoader,Dataset\n",
    "import numpy as np\n",
    "import torch.nn as nn\n",
    "import torch.nn.functional as F"
   ]
  },
  {
   "cell_type": "code",
   "execution_count": 2,
   "metadata": {},
   "outputs": [
    {
     "data": {
      "text/plain": [
       "<torch._C.Generator at 0x7fe5c05e55f0>"
      ]
     },
     "execution_count": 2,
     "metadata": {},
     "output_type": "execute_result"
    }
   ],
   "source": [
    "device = torch.device('cpu')\n",
    "torch.manual_seed(1)"
   ]
  },
  {
   "cell_type": "code",
   "execution_count": 3,
   "metadata": {},
   "outputs": [
    {
     "name": "stdout",
     "output_type": "stream",
     "text": [
      "Downloading http://yann.lecun.com/exdb/mnist/train-images-idx3-ubyte.gz\n",
      "Downloading http://yann.lecun.com/exdb/mnist/train-images-idx3-ubyte.gz to ./Datasets/MNIST/raw/train-images-idx3-ubyte.gz\n"
     ]
    },
    {
     "name": "stderr",
     "output_type": "stream",
     "text": [
      "100%|██████████| 9912422/9912422 [00:00<00:00, 26565610.18it/s]\n"
     ]
    },
    {
     "name": "stdout",
     "output_type": "stream",
     "text": [
      "Extracting ./Datasets/MNIST/raw/train-images-idx3-ubyte.gz to ./Datasets/MNIST/raw\n",
      "\n",
      "Downloading http://yann.lecun.com/exdb/mnist/train-labels-idx1-ubyte.gz\n",
      "Downloading http://yann.lecun.com/exdb/mnist/train-labels-idx1-ubyte.gz to ./Datasets/MNIST/raw/train-labels-idx1-ubyte.gz\n"
     ]
    },
    {
     "name": "stderr",
     "output_type": "stream",
     "text": [
      "100%|██████████| 28881/28881 [00:00<00:00, 130253434.22it/s]"
     ]
    },
    {
     "name": "stdout",
     "output_type": "stream",
     "text": [
      "Extracting ./Datasets/MNIST/raw/train-labels-idx1-ubyte.gz to ./Datasets/MNIST/raw\n",
      "\n",
      "Downloading http://yann.lecun.com/exdb/mnist/t10k-images-idx3-ubyte.gz\n"
     ]
    },
    {
     "name": "stderr",
     "output_type": "stream",
     "text": [
      "\n"
     ]
    },
    {
     "name": "stdout",
     "output_type": "stream",
     "text": [
      "Downloading http://yann.lecun.com/exdb/mnist/t10k-images-idx3-ubyte.gz to ./Datasets/MNIST/raw/t10k-images-idx3-ubyte.gz\n"
     ]
    },
    {
     "name": "stderr",
     "output_type": "stream",
     "text": [
      "100%|██████████| 1648877/1648877 [00:00<00:00, 8552370.36it/s]\n"
     ]
    },
    {
     "name": "stdout",
     "output_type": "stream",
     "text": [
      "Extracting ./Datasets/MNIST/raw/t10k-images-idx3-ubyte.gz to ./Datasets/MNIST/raw\n",
      "\n",
      "Downloading http://yann.lecun.com/exdb/mnist/t10k-labels-idx1-ubyte.gz\n",
      "Downloading http://yann.lecun.com/exdb/mnist/t10k-labels-idx1-ubyte.gz to ./Datasets/MNIST/raw/t10k-labels-idx1-ubyte.gz\n"
     ]
    },
    {
     "name": "stderr",
     "output_type": "stream",
     "text": [
      "100%|██████████| 4542/4542 [00:00<00:00, 8448128.06it/s]"
     ]
    },
    {
     "name": "stdout",
     "output_type": "stream",
     "text": [
      "Extracting ./Datasets/MNIST/raw/t10k-labels-idx1-ubyte.gz to ./Datasets/MNIST/raw\n",
      "\n",
      "torch.Size([64, 1, 28, 28])\n"
     ]
    },
    {
     "name": "stderr",
     "output_type": "stream",
     "text": [
      "\n"
     ]
    },
    {
     "data": {
      "image/png": "[encoded data removed]",
      "text/plain": [
       "<Figure size 432x288 with 1 Axes>"
      ]
     },
     "metadata": {
      "needs_background": "light"
     },
     "output_type": "display_data"
    }
   ],
   "source": [
    "MNIST_data = torchvision.datasets.MNIST(root= './Datasets', download=True, transform = transforms.Compose([transforms.ToTensor(),\\\n",
    "transforms.Normalize((0.1307,), (0.3081, )) ]))\n",
    "data_loader = DataLoader(MNIST_data, batch_size=64, shuffle = True)\n",
    "test_loader = DataLoader(torchvision.datasets.MNIST('./Datasets', train=False, download=True,\n",
    "                             transform=torchvision.transforms.Compose([\n",
    "                               torchvision.transforms.ToTensor(),\n",
    "                               torchvision.transforms.Normalize(\n",
    "                                 (0.1307,), (0.3081,))\n",
    "                             ])), batch_size=10, shuffle = True)\n",
    "iterator = iter(data_loader)\n",
    "images, labels = iterator.next()\n",
    "plt.imshow(images[5].reshape(28, 28), cmap = \"gray\")\n",
    "print(images.shape)\n",
    "#learn more about matplotlib if you can !!\n",
    "#what is plt.imshow , how do i use it more efficiently"
   ]
  },
  {
   "cell_type": "code",
   "execution_count": 4,
   "metadata": {},
   "outputs": [
    {
     "name": "stdout",
     "output_type": "stream",
     "text": [
      "tensor([1.4850, 0.3013, 2.1469, 0.9632, 2.8088, 0.9632, 0.3777, 2.8088, 0.1613,\n",
      "        0.1104, 1.7523, 0.1740, 0.5049, 2.8088, 0.6959, 1.6887, 2.8088, 0.9632,\n",
      "        0.5049, 2.8088, 0.9632, 2.3505, 2.8215, 0.8359, 0.5049, 2.8088, 0.0340,\n",
      "        2.7324, 2.4142, 1.0395, 2.8088, 0.0340, 0.7086, 2.8088, 1.9560, 1.4214,\n",
      "        2.3505, 1.7523, 2.7960, 0.3777, 2.0832, 2.0832, 2.5415, 2.8088, 0.0467,\n",
      "        0.0467, 2.8088, 1.4214, 1.0395, 2.7960, 2.7960, 2.8088, 2.4015, 1.6887,\n",
      "        0.6322, 0.0467, 2.7960, 1.4214, 1.4214, 2.8088, 1.0904, 1.1668, 1.6887,\n",
      "        2.5542, 2.8088, 2.8088, 2.2742, 2.2869, 2.8088, 1.1032, 1.4214, 2.7960,\n",
      "        0.0340, 1.3450, 1.3450, 1.6123, 2.5415, 2.7960, 2.8088, 2.6687, 0.1104,\n",
      "        0.9123, 1.8160, 2.5542, 2.1469, 0.1104, 2.8088, 1.3450, 1.0395, 2.8088,\n",
      "        0.3013, 2.3378, 2.4142, 2.3505, 1.9560, 2.3378, 1.4214])\n"
     ]
    }
   ],
   "source": [
    "print(images[0][0][np.where(images[0].reshape(28, 28) > 0)])"
   ]
  },
  {
   "cell_type": "code",
   "execution_count": 5,
   "metadata": {},
   "outputs": [
    {
     "data": {
      "image/png": "[encoded data removed]",
      "text/plain": [
       "<Figure size 432x288 with 6 Axes>"
      ]
     },
     "metadata": {
      "needs_background": "light"
     },
     "output_type": "display_data"
    }
   ],
   "source": [
    "fig = plt.figure()\n",
    "for i in range(6):\n",
    "  plt.subplot(2,3,i+1)\n",
    "  plt.tight_layout()\n",
    "  plt.imshow(images[i][0], cmap='gray', interpolation='none')\n",
    "  plt.title(\"Ground Truth: {}\".format(labels[i]))\n",
    "#   plt.xticks([])\n",
    "#   plt.yticks([])"
   ]
  },
  {
   "cell_type": "code",
   "execution_count": 6,
   "metadata": {},
   "outputs": [],
   "source": [
    "class net(torch.nn.Module):\n",
    "    def __init__(self):\n",
    "        super(net, self).__init__()\n",
    "        self.conv1 = nn.Conv2d(1, 10 , kernel_size=5)\n",
    "        self.conv2 = nn.Conv2d(10, 20, kernel_size=5)\n",
    "        self.conv2_drop = nn.Dropout2d()\n",
    "        self.fc1 = nn.Linear(320, 50)\n",
    "        self.fc2 = nn.Linear(50, 10)\n",
    "    def forward(self, x):\n",
    "        x = F.relu(F.max_pool2d(self.conv1(x), 2))\n",
    "        x = F.relu(F.max_pool2d(self.conv2_drop(self.conv2(x)), 2))\n",
    "        x = x.view(-1, 320) \n",
    "        x = F.relu(self.fc1(x))\n",
    "        x = F.dropout(x, training= self.training) # this dropout obviously occurs ony during the training phase\n",
    "        x = self.fc2(x) # => ooutput will be n , 10 \n",
    "        return F.log_softmax(x)"
   ]
  },
  {
   "cell_type": "code",
   "execution_count": 7,
   "metadata": {},
   "outputs": [],
   "source": [
    "# 28 - 5 + 1 = 24 -> 24 - 2 + 1 = 23 ->  23 -5 + 1 = 19 -> 19 - 2 + 1 -> 18 -> 324 somehoww , not a square of a number bro ! \n"
   ]
  },
  {
   "cell_type": "code",
   "execution_count": 8,
   "metadata": {},
   "outputs": [],
   "source": [
    "NeuralNet = net()\n",
    "opt = torch.optim.SGD(NeuralNet.parameters(), lr = 1.2e-3)\n",
    "log_interval = 10\n",
    "train_loss_history= []\n",
    "train_counter= []\n",
    "test_loss_history = []\n",
    "test_counter = []\n",
    "#amazing way of storing the losses , using the batch id !\n",
    "\n"
   ]
  },
  {
   "cell_type": "code",
   "execution_count": 9,
   "metadata": {},
   "outputs": [],
   "source": [
    "def train(epoch):\n",
    "    #every element in images is a batch, the data loader gives you a batch outside!\n",
    "    NeuralNet.train() # sets the training mode !\n",
    "    for batch_id,(batch,labels) in enumerate(data_loader):\n",
    "        opt.zero_grad() ###super important, work with the optimizer instead of the model\n",
    "        y_pred = NeuralNet(batch)\n",
    "        loss_fn = F.nll_loss # => this takes the class number !!\n",
    "        loss = loss_fn(y_pred,labels)\n",
    "        loss.backward()\n",
    "        opt.step()\n",
    "        if(batch_id % log_interval == 0):\n",
    "            counter = 64*(batch_id)  + (epoch - 1)*len(data_loader.dataset) #very cool , what is this train_loader.dataset ( prolly only the second part)\n",
    "            train_loss_history.append(loss.item())\n",
    "            print(\"Epoch = %d, training counter = %d, training loss = %.6f, \"%(epoch,counter,loss.item()))\n",
    "            train_counter.append(counter)    \n"
   ]
  },
  {
   "cell_type": "code",
   "execution_count": 10,
   "metadata": {},
   "outputs": [],
   "source": [
    "def test():\n",
    "    NeuralNet.eval() #this is now in evaluation mode \n",
    "    loss = 0\n",
    "    correct = 0\n",
    "    avg_loss = 0\n",
    "    for test_data, labels in test_loader:\n",
    "        preds = NeuralNet(test_data)\n",
    "        loss = F.nll_loss(preds,labels)\n",
    "        correct = correct + (torch.argmax(preds, axis = 1) == labels).sum()\n",
    "        avg_loss += loss/len(test_loader.dataset)\n",
    "        test_loss_history.append(loss)\n",
    "    print('\\nTest set: Avg. loss: {:.4f}, Accuracy: {}/{} ({:.0f}%)\\n'.format(\n",
    "    loss, correct, len(test_loader.dataset),\n",
    "    100. * correct / len(test_loader.dataset)))\n"
   ]
  },
  {
   "cell_type": "code",
   "execution_count": 11,
   "metadata": {},
   "outputs": [
    {
     "data": {
      "text/plain": [
       "10000"
      ]
     },
     "execution_count": 11,
     "metadata": {},
     "output_type": "execute_result"
    }
   ],
   "source": [
    "len(test_loader.dataset)"
   ]
  },
  {
   "cell_type": "code",
   "execution_count": 12,
   "metadata": {},
   "outputs": [
    {
     "data": {
      "text/plain": [
       "torch.Size([1])"
      ]
     },
     "execution_count": 12,
     "metadata": {},
     "output_type": "execute_result"
    }
   ],
   "source": [
    "F.nll_loss(torch.randn(3, 5), torch.tensor([1, 2, 3]))# at least one dimension must match! \n",
    "torch.argmax(torch.tensor([1, 2, 3]) , axis = 0, keepdim = True).shape "
   ]
  },
  {
   "cell_type": "code",
   "execution_count": 13,
   "metadata": {},
   "outputs": [
    {
     "name": "stderr",
     "output_type": "stream",
     "text": [
      "/tmp/ipykernel_26774/3904927278.py:16: UserWarning: Implicit dimension choice for log_softmax has been deprecated. Change the call to include dim=X as an argument.\n",
      "  return F.log_softmax(x)\n"
     ]
    },
    {
     "name": "stdout",
     "output_type": "stream",
     "text": [
      "\n",
      "Test set: Avg. loss: 2.3798, Accuracy: 924/10000 (9%)\n",
      "\n",
      "Epoch = 1, training counter = 0, training loss = 2.344466, \n",
      "Epoch = 1, training counter = 640, training loss = 2.319300, \n",
      "Epoch = 1, training counter = 1280, training loss = 2.290235, \n",
      "Epoch = 1, training counter = 1920, training loss = 2.320986, \n",
      "Epoch = 1, training counter = 2560, training loss = 2.291524, \n",
      "Epoch = 1, training counter = 3200, training loss = 2.314837, \n",
      "Epoch = 1, training counter = 3840, training loss = 2.328347, \n",
      "Epoch = 1, training counter = 4480, training loss = 2.259463, \n",
      "Epoch = 1, training counter = 5120, training loss = 2.292481, \n",
      "Epoch = 1, training counter = 5760, training loss = 2.315728, \n",
      "Epoch = 1, training counter = 6400, training loss = 2.296565, \n",
      "Epoch = 1, training counter = 7040, training loss = 2.311428, \n",
      "Epoch = 1, training counter = 7680, training loss = 2.359442, \n",
      "Epoch = 1, training counter = 8320, training loss = 2.332069, \n",
      "Epoch = 1, training counter = 8960, training loss = 2.359938, \n",
      "Epoch = 1, training counter = 9600, training loss = 2.282691, \n",
      "Epoch = 1, training counter = 10240, training loss = 2.307038, \n",
      "Epoch = 1, training counter = 10880, training loss = 2.285700, \n",
      "Epoch = 1, training counter = 11520, training loss = 2.308747, \n",
      "Epoch = 1, training counter = 12160, training loss = 2.300933, \n",
      "Epoch = 1, training counter = 12800, training loss = 2.296134, \n",
      "Epoch = 1, training counter = 13440, training loss = 2.301857, \n",
      "Epoch = 1, training counter = 14080, training loss = 2.326841, \n",
      "Epoch = 1, training counter = 14720, training loss = 2.260495, \n",
      "Epoch = 1, training counter = 15360, training loss = 2.291779, \n",
      "Epoch = 1, training counter = 16000, training loss = 2.295283, \n",
      "Epoch = 1, training counter = 16640, training loss = 2.287385, \n",
      "Epoch = 1, training counter = 17280, training loss = 2.295268, \n",
      "Epoch = 1, training counter = 17920, training loss = 2.321410, \n",
      "Epoch = 1, training counter = 18560, training loss = 2.262820, \n",
      "Epoch = 1, training counter = 19200, training loss = 2.322290, \n",
      "Epoch = 1, training counter = 19840, training loss = 2.256522, \n",
      "Epoch = 1, training counter = 20480, training loss = 2.280078, \n",
      "Epoch = 1, training counter = 21120, training loss = 2.258439, \n",
      "Epoch = 1, training counter = 21760, training loss = 2.269708, \n",
      "Epoch = 1, training counter = 22400, training loss = 2.272665, \n",
      "Epoch = 1, training counter = 23040, training loss = 2.299890, \n",
      "Epoch = 1, training counter = 23680, training loss = 2.317208, \n",
      "Epoch = 1, training counter = 24320, training loss = 2.281247, \n",
      "Epoch = 1, training counter = 24960, training loss = 2.292003, \n",
      "Epoch = 1, training counter = 25600, training loss = 2.271013, \n",
      "Epoch = 1, training counter = 26240, training loss = 2.295643, \n",
      "Epoch = 1, training counter = 26880, training loss = 2.272911, \n",
      "Epoch = 1, training counter = 27520, training loss = 2.237467, \n",
      "Epoch = 1, training counter = 28160, training loss = 2.267152, \n",
      "Epoch = 1, training counter = 28800, training loss = 2.241713, \n",
      "Epoch = 1, training counter = 29440, training loss = 2.256132, \n",
      "Epoch = 1, training counter = 30080, training loss = 2.289421, \n",
      "Epoch = 1, training counter = 30720, training loss = 2.257099, \n",
      "Epoch = 1, training counter = 31360, training loss = 2.256538, \n",
      "Epoch = 1, training counter = 32000, training loss = 2.258504, \n",
      "Epoch = 1, training counter = 32640, training loss = 2.240112, \n",
      "Epoch = 1, training counter = 33280, training loss = 2.262789, \n",
      "Epoch = 1, training counter = 33920, training loss = 2.271263, \n",
      "Epoch = 1, training counter = 34560, training loss = 2.258249, \n",
      "Epoch = 1, training counter = 35200, training loss = 2.288829, \n",
      "Epoch = 1, training counter = 35840, training loss = 2.262609, \n",
      "Epoch = 1, training counter = 36480, training loss = 2.274404, \n",
      "Epoch = 1, training counter = 37120, training loss = 2.263258, \n",
      "Epoch = 1, training counter = 37760, training loss = 2.237904, \n",
      "Epoch = 1, training counter = 38400, training loss = 2.226275, \n",
      "Epoch = 1, training counter = 39040, training loss = 2.262518, \n",
      "Epoch = 1, training counter = 39680, training loss = 2.253727, \n",
      "Epoch = 1, training counter = 40320, training loss = 2.273763, \n",
      "Epoch = 1, training counter = 40960, training loss = 2.248068, \n",
      "Epoch = 1, training counter = 41600, training loss = 2.287976, \n",
      "Epoch = 1, training counter = 42240, training loss = 2.256773, \n",
      "Epoch = 1, training counter = 42880, training loss = 2.237485, \n",
      "Epoch = 1, training counter = 43520, training loss = 2.224049, \n",
      "Epoch = 1, training counter = 44160, training loss = 2.228001, \n",
      "Epoch = 1, training counter = 44800, training loss = 2.239292, \n",
      "Epoch = 1, training counter = 45440, training loss = 2.210062, \n",
      "Epoch = 1, training counter = 46080, training loss = 2.276029, \n",
      "Epoch = 1, training counter = 46720, training loss = 2.235717, \n",
      "Epoch = 1, training counter = 47360, training loss = 2.247387, \n",
      "Epoch = 1, training counter = 48000, training loss = 2.220142, \n",
      "Epoch = 1, training counter = 48640, training loss = 2.203640, \n",
      "Epoch = 1, training counter = 49280, training loss = 2.197757, \n",
      "Epoch = 1, training counter = 49920, training loss = 2.247696, \n",
      "Epoch = 1, training counter = 50560, training loss = 2.209195, \n",
      "Epoch = 1, training counter = 51200, training loss = 2.219029, \n",
      "Epoch = 1, training counter = 51840, training loss = 2.200020, \n",
      "Epoch = 1, training counter = 52480, training loss = 2.208298, \n",
      "Epoch = 1, training counter = 53120, training loss = 2.221143, \n",
      "Epoch = 1, training counter = 53760, training loss = 2.195394, \n",
      "Epoch = 1, training counter = 54400, training loss = 2.255190, \n",
      "Epoch = 1, training counter = 55040, training loss = 2.233905, \n",
      "Epoch = 1, training counter = 55680, training loss = 2.193627, \n",
      "Epoch = 1, training counter = 56320, training loss = 2.224379, \n",
      "Epoch = 1, training counter = 56960, training loss = 2.228168, \n",
      "Epoch = 1, training counter = 57600, training loss = 2.261395, \n",
      "Epoch = 1, training counter = 58240, training loss = 2.210635, \n",
      "Epoch = 1, training counter = 58880, training loss = 2.165124, \n",
      "Epoch = 1, training counter = 59520, training loss = 2.204893, \n",
      "\n",
      "Test set: Avg. loss: 2.1982, Accuracy: 5375/10000 (54%)\n",
      "\n",
      "Epoch = 2, training counter = 60000, training loss = 2.206903, \n",
      "Epoch = 2, training counter = 60640, training loss = 2.229276, \n",
      "Epoch = 2, training counter = 61280, training loss = 2.187316, \n",
      "Epoch = 2, training counter = 61920, training loss = 2.211049, \n",
      "Epoch = 2, training counter = 62560, training loss = 2.200213, \n",
      "Epoch = 2, training counter = 63200, training loss = 2.212387, \n",
      "Epoch = 2, training counter = 63840, training loss = 2.189010, \n",
      "Epoch = 2, training counter = 64480, training loss = 2.140531, \n",
      "Epoch = 2, training counter = 65120, training loss = 2.201242, \n",
      "Epoch = 2, training counter = 65760, training loss = 2.200672, \n",
      "Epoch = 2, training counter = 66400, training loss = 2.230503, \n",
      "Epoch = 2, training counter = 67040, training loss = 2.169528, \n",
      "Epoch = 2, training counter = 67680, training loss = 2.130721, \n",
      "Epoch = 2, training counter = 68320, training loss = 2.181494, \n",
      "Epoch = 2, training counter = 68960, training loss = 2.117845, \n",
      "Epoch = 2, training counter = 69600, training loss = 2.131108, \n",
      "Epoch = 2, training counter = 70240, training loss = 2.157328, \n",
      "Epoch = 2, training counter = 70880, training loss = 2.204937, \n",
      "Epoch = 2, training counter = 71520, training loss = 2.158728, \n",
      "Epoch = 2, training counter = 72160, training loss = 2.117956, \n",
      "Epoch = 2, training counter = 72800, training loss = 2.115852, \n",
      "Epoch = 2, training counter = 73440, training loss = 2.080717, \n",
      "Epoch = 2, training counter = 74080, training loss = 2.144823, \n",
      "Epoch = 2, training counter = 74720, training loss = 2.159464, \n",
      "Epoch = 2, training counter = 75360, training loss = 2.127098, \n",
      "Epoch = 2, training counter = 76000, training loss = 2.139861, \n",
      "Epoch = 2, training counter = 76640, training loss = 2.126851, \n",
      "Epoch = 2, training counter = 77280, training loss = 2.117784, \n",
      "Epoch = 2, training counter = 77920, training loss = 2.053131, \n",
      "Epoch = 2, training counter = 78560, training loss = 2.093645, \n",
      "Epoch = 2, training counter = 79200, training loss = 2.052778, \n",
      "Epoch = 2, training counter = 79840, training loss = 2.108012, \n",
      "Epoch = 2, training counter = 80480, training loss = 2.117337, \n",
      "Epoch = 2, training counter = 81120, training loss = 2.002889, \n",
      "Epoch = 2, training counter = 81760, training loss = 2.061177, \n",
      "Epoch = 2, training counter = 82400, training loss = 2.044885, \n",
      "Epoch = 2, training counter = 83040, training loss = 2.087054, \n",
      "Epoch = 2, training counter = 83680, training loss = 2.046899, \n",
      "Epoch = 2, training counter = 84320, training loss = 2.084076, \n",
      "Epoch = 2, training counter = 84960, training loss = 2.109749, \n",
      "Epoch = 2, training counter = 85600, training loss = 2.057087, \n",
      "Epoch = 2, training counter = 86240, training loss = 2.001512, \n",
      "Epoch = 2, training counter = 86880, training loss = 2.070769, \n",
      "Epoch = 2, training counter = 87520, training loss = 2.134660, \n",
      "Epoch = 2, training counter = 88160, training loss = 2.015893, \n",
      "Epoch = 2, training counter = 88800, training loss = 2.006950, \n",
      "Epoch = 2, training counter = 89440, training loss = 2.126857, \n",
      "Epoch = 2, training counter = 90080, training loss = 2.007583, \n",
      "Epoch = 2, training counter = 90720, training loss = 1.981124, \n",
      "Epoch = 2, training counter = 91360, training loss = 2.182672, \n",
      "Epoch = 2, training counter = 92000, training loss = 2.103792, \n",
      "Epoch = 2, training counter = 92640, training loss = 2.028963, \n",
      "Epoch = 2, training counter = 93280, training loss = 1.954165, \n",
      "Epoch = 2, training counter = 93920, training loss = 1.970688, \n",
      "Epoch = 2, training counter = 94560, training loss = 1.957611, \n",
      "Epoch = 2, training counter = 95200, training loss = 1.941933, \n",
      "Epoch = 2, training counter = 95840, training loss = 1.942332, \n",
      "Epoch = 2, training counter = 96480, training loss = 1.974052, \n",
      "Epoch = 2, training counter = 97120, training loss = 1.879681, \n",
      "Epoch = 2, training counter = 97760, training loss = 1.893502, \n",
      "Epoch = 2, training counter = 98400, training loss = 1.922991, \n",
      "Epoch = 2, training counter = 99040, training loss = 1.989646, \n",
      "Epoch = 2, training counter = 99680, training loss = 1.927058, \n",
      "Epoch = 2, training counter = 100320, training loss = 1.923712, \n",
      "Epoch = 2, training counter = 100960, training loss = 2.013448, \n",
      "Epoch = 2, training counter = 101600, training loss = 1.906731, \n",
      "Epoch = 2, training counter = 102240, training loss = 1.951891, \n",
      "Epoch = 2, training counter = 102880, training loss = 1.894228, \n",
      "Epoch = 2, training counter = 103520, training loss = 1.813649, \n",
      "Epoch = 2, training counter = 104160, training loss = 1.819513, \n",
      "Epoch = 2, training counter = 104800, training loss = 1.883313, \n",
      "Epoch = 2, training counter = 105440, training loss = 1.937817, \n",
      "Epoch = 2, training counter = 106080, training loss = 1.824111, \n",
      "Epoch = 2, training counter = 106720, training loss = 1.906649, \n",
      "Epoch = 2, training counter = 107360, training loss = 1.758783, \n",
      "Epoch = 2, training counter = 108000, training loss = 1.853904, \n",
      "Epoch = 2, training counter = 108640, training loss = 1.776306, \n",
      "Epoch = 2, training counter = 109280, training loss = 1.867637, \n",
      "Epoch = 2, training counter = 109920, training loss = 1.856589, \n",
      "Epoch = 2, training counter = 110560, training loss = 1.659242, \n",
      "Epoch = 2, training counter = 111200, training loss = 1.806865, \n",
      "Epoch = 2, training counter = 111840, training loss = 1.705616, \n",
      "Epoch = 2, training counter = 112480, training loss = 1.741439, \n",
      "Epoch = 2, training counter = 113120, training loss = 1.512780, \n",
      "Epoch = 2, training counter = 113760, training loss = 1.739779, \n",
      "Epoch = 2, training counter = 114400, training loss = 1.666276, \n",
      "Epoch = 2, training counter = 115040, training loss = 1.746971, \n",
      "Epoch = 2, training counter = 115680, training loss = 1.694705, \n",
      "Epoch = 2, training counter = 116320, training loss = 1.682713, \n",
      "Epoch = 2, training counter = 116960, training loss = 1.619083, \n",
      "Epoch = 2, training counter = 117600, training loss = 1.675672, \n",
      "Epoch = 2, training counter = 118240, training loss = 1.778111, \n",
      "Epoch = 2, training counter = 118880, training loss = 1.702888, \n",
      "Epoch = 2, training counter = 119520, training loss = 1.811330, \n",
      "\n",
      "Test set: Avg. loss: 1.2109, Accuracy: 7127/10000 (71%)\n",
      "\n",
      "Epoch = 3, training counter = 120000, training loss = 1.677709, \n",
      "Epoch = 3, training counter = 120640, training loss = 1.720500, \n",
      "Epoch = 3, training counter = 121280, training loss = 1.651459, \n",
      "Epoch = 3, training counter = 121920, training loss = 1.681361, \n",
      "Epoch = 3, training counter = 122560, training loss = 1.578431, \n",
      "Epoch = 3, training counter = 123200, training loss = 1.704630, \n",
      "Epoch = 3, training counter = 123840, training loss = 1.610875, \n",
      "Epoch = 3, training counter = 124480, training loss = 1.667591, \n",
      "Epoch = 3, training counter = 125120, training loss = 1.464239, \n",
      "Epoch = 3, training counter = 125760, training loss = 1.563811, \n",
      "Epoch = 3, training counter = 126400, training loss = 1.548144, \n",
      "Epoch = 3, training counter = 127040, training loss = 1.736310, \n",
      "Epoch = 3, training counter = 127680, training loss = 1.751025, \n",
      "Epoch = 3, training counter = 128320, training loss = 1.735101, \n",
      "Epoch = 3, training counter = 128960, training loss = 1.538515, \n",
      "Epoch = 3, training counter = 129600, training loss = 1.385134, \n",
      "Epoch = 3, training counter = 130240, training loss = 1.476596, \n",
      "Epoch = 3, training counter = 130880, training loss = 1.575057, \n",
      "Epoch = 3, training counter = 131520, training loss = 1.458319, \n",
      "Epoch = 3, training counter = 132160, training loss = 1.588357, \n",
      "Epoch = 3, training counter = 132800, training loss = 1.569643, \n",
      "Epoch = 3, training counter = 133440, training loss = 1.491649, \n",
      "Epoch = 3, training counter = 134080, training loss = 1.562433, \n",
      "Epoch = 3, training counter = 134720, training loss = 1.515678, \n",
      "Epoch = 3, training counter = 135360, training loss = 1.588168, \n",
      "Epoch = 3, training counter = 136000, training loss = 1.538991, \n",
      "Epoch = 3, training counter = 136640, training loss = 1.447769, \n",
      "Epoch = 3, training counter = 137280, training loss = 1.544831, \n",
      "Epoch = 3, training counter = 137920, training loss = 1.520176, \n",
      "Epoch = 3, training counter = 138560, training loss = 1.350239, \n",
      "Epoch = 3, training counter = 139200, training loss = 1.467510, \n",
      "Epoch = 3, training counter = 139840, training loss = 1.273578, \n",
      "Epoch = 3, training counter = 140480, training loss = 1.491810, \n",
      "Epoch = 3, training counter = 141120, training loss = 1.333030, \n",
      "Epoch = 3, training counter = 141760, training loss = 1.509390, \n",
      "Epoch = 3, training counter = 142400, training loss = 1.273924, \n",
      "Epoch = 3, training counter = 143040, training loss = 1.543601, \n",
      "Epoch = 3, training counter = 143680, training loss = 1.455080, \n",
      "Epoch = 3, training counter = 144320, training loss = 1.388816, \n",
      "Epoch = 3, training counter = 144960, training loss = 1.374841, \n",
      "Epoch = 3, training counter = 145600, training loss = 1.570744, \n",
      "Epoch = 3, training counter = 146240, training loss = 1.490581, \n",
      "Epoch = 3, training counter = 146880, training loss = 1.675204, \n",
      "Epoch = 3, training counter = 147520, training loss = 1.490656, \n",
      "Epoch = 3, training counter = 148160, training loss = 1.568051, \n",
      "Epoch = 3, training counter = 148800, training loss = 1.274432, \n",
      "Epoch = 3, training counter = 149440, training loss = 1.347300, \n",
      "Epoch = 3, training counter = 150080, training loss = 1.465801, \n",
      "Epoch = 3, training counter = 150720, training loss = 1.520503, \n",
      "Epoch = 3, training counter = 151360, training loss = 1.328291, \n",
      "Epoch = 3, training counter = 152000, training loss = 1.210998, \n",
      "Epoch = 3, training counter = 152640, training loss = 1.062451, \n",
      "Epoch = 3, training counter = 153280, training loss = 1.336127, \n",
      "Epoch = 3, training counter = 153920, training loss = 1.560291, \n",
      "Epoch = 3, training counter = 154560, training loss = 1.410203, \n",
      "Epoch = 3, training counter = 155200, training loss = 1.279445, \n",
      "Epoch = 3, training counter = 155840, training loss = 1.215443, \n",
      "Epoch = 3, training counter = 156480, training loss = 1.312086, \n",
      "Epoch = 3, training counter = 157120, training loss = 1.482418, \n",
      "Epoch = 3, training counter = 157760, training loss = 1.224281, \n",
      "Epoch = 3, training counter = 158400, training loss = 1.492745, \n",
      "Epoch = 3, training counter = 159040, training loss = 1.115065, \n",
      "Epoch = 3, training counter = 159680, training loss = 1.391181, \n",
      "Epoch = 3, training counter = 160320, training loss = 1.215714, \n",
      "Epoch = 3, training counter = 160960, training loss = 1.453572, \n",
      "Epoch = 3, training counter = 161600, training loss = 1.126303, \n",
      "Epoch = 3, training counter = 162240, training loss = 1.249354, \n",
      "Epoch = 3, training counter = 162880, training loss = 1.298862, \n",
      "Epoch = 3, training counter = 163520, training loss = 1.282454, \n",
      "Epoch = 3, training counter = 164160, training loss = 1.345358, \n",
      "Epoch = 3, training counter = 164800, training loss = 1.155717, \n",
      "Epoch = 3, training counter = 165440, training loss = 1.174090, \n",
      "Epoch = 3, training counter = 166080, training loss = 1.167942, \n",
      "Epoch = 3, training counter = 166720, training loss = 1.007822, \n",
      "Epoch = 3, training counter = 167360, training loss = 1.342811, \n",
      "Epoch = 3, training counter = 168000, training loss = 1.181146, \n",
      "Epoch = 3, training counter = 168640, training loss = 1.360976, \n",
      "Epoch = 3, training counter = 169280, training loss = 1.178354, \n",
      "Epoch = 3, training counter = 169920, training loss = 1.292997, \n",
      "Epoch = 3, training counter = 170560, training loss = 1.125714, \n",
      "Epoch = 3, training counter = 171200, training loss = 1.127450, \n",
      "Epoch = 3, training counter = 171840, training loss = 1.304350, \n",
      "Epoch = 3, training counter = 172480, training loss = 0.978491, \n",
      "Epoch = 3, training counter = 173120, training loss = 1.272274, \n",
      "Epoch = 3, training counter = 173760, training loss = 1.034922, \n",
      "Epoch = 3, training counter = 174400, training loss = 1.133152, \n",
      "Epoch = 3, training counter = 175040, training loss = 1.333342, \n",
      "Epoch = 3, training counter = 175680, training loss = 1.140728, \n",
      "Epoch = 3, training counter = 176320, training loss = 1.256523, \n",
      "Epoch = 3, training counter = 176960, training loss = 1.466457, \n",
      "Epoch = 3, training counter = 177600, training loss = 1.169144, \n",
      "Epoch = 3, training counter = 178240, training loss = 1.120263, \n",
      "Epoch = 3, training counter = 178880, training loss = 1.234603, \n",
      "Epoch = 3, training counter = 179520, training loss = 1.000292, \n",
      "\n",
      "Test set: Avg. loss: 0.7670, Accuracy: 8361/10000 (84%)\n",
      "\n"
     ]
    }
   ],
   "source": [
    "# for batch_id,(batch_data, labels) in enumerate(data_loader):\n",
    "#     print(torch.argmax(NeuralNet(batch_data), axis = 1)== labels) #turns out the keepdim will keep the dim !, dont use keepdim unless necessary !\n",
    "test()\n",
    "num_epochs = 3\n",
    "for epoch in range(1,num_epochs + 1):\n",
    "    train(epoch)\n",
    "    test()\n"
   ]
  },
  {
   "cell_type": "code",
   "execution_count": 14,
   "metadata": {},
   "outputs": [
    {
     "name": "stderr",
     "output_type": "stream",
     "text": [
      "/tmp/ipykernel_26774/3904927278.py:16: UserWarning: Implicit dimension choice for log_softmax has been deprecated. Change the call to include dim=X as an argument.\n",
      "  return F.log_softmax(x)\n"
     ]
    },
    {
     "name": "stdout",
     "output_type": "stream",
     "text": [
      "\n",
      "Test set: Avg. loss: 1.1800, Accuracy: 8361/10000 (84%)\n",
      "\n"
     ]
    }
   ],
   "source": [
    "test()"
   ]
  },
  {
   "cell_type": "code",
   "execution_count": 15,
   "metadata": {},
   "outputs": [
    {
     "name": "stdout",
     "output_type": "stream",
     "text": [
      "<class 'list'>\n"
     ]
    },
    {
     "data": {
      "text/plain": [
       "Text(0.5, 1.0, 'Training Loss per batch versus number of examples seen')"
      ]
     },
     "execution_count": 15,
     "metadata": {},
     "output_type": "execute_result"
    },
    {
     "data": {
      "image/png": "[encoded data removed]",
      "text/plain": [
       "<Figure size 432x288 with 1 Axes>"
      ]
     },
     "metadata": {
      "needs_background": "light"
     },
     "output_type": "display_data"
    }
   ],
   "source": [
    "plt.plot(train_counter, train_loss_history)\n",
    "print(type(train_counter))\n",
    "plt.title(\"Training Loss per batch versus number of examples seen\")"
   ]
  },
  {
   "cell_type": "code",
   "execution_count": 16,
   "metadata": {},
   "outputs": [],
   "source": [
    "# for batch_id,(_,_) in enumerate(data_loader):\n",
    "#     print(batch_id) # 0 - indexd !\n",
    "import matplotlib.pyplot  as plt2\n",
    "listx = [i for i in range(1, len(test_loss_history) + 1)]\n"
   ]
  }
 ],
 "metadata": {
  "kernelspec": {
   "display_name": "Python 3.10.4 ('Epoch-Session-1-enjpTgp5')",
   "language": "python",
   "name": "python3"
  },
  "language_info": {
   "codemirror_mode": {
    "name": "ipython",
    "version": 3
   },
   "file_extension": ".py",
   "mimetype": "text/x-python",
   "name": "python",
   "nbconvert_exporter": "python",
   "pygments_lexer": "ipython3",
   "version": "3.10.4"
  },
  "orig_nbformat": 4,
  "vscode": {
   "interpreter": {
    "hash": "46d60448f72be73a6b82f372602dc78a57e45d4fe4e57dcca0bb1aab26e63e72"
   }
  }
 },
 "nbformat": 4,
 "nbformat_minor": 2
}
