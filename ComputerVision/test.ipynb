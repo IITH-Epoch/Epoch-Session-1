{
 "cells": [
  {
   "cell_type": "code",
   "execution_count": 1,
   "metadata": {},
   "outputs": [],
   "source": [
    "import torch\n",
    "import torchvision\n",
    "import torchvision.transforms as transforms\n",
    "import matplotlib.pyplot as plt\n",
    "from torch.utils.data import DataLoader,Dataset\n",
    "import numpy as np\n",
    "import torch.nn as nn\n",
    "import torch.nn.functional as F\n",
    "import time"
   ]
  },
  {
   "cell_type": "code",
   "execution_count": 2,
   "metadata": {},
   "outputs": [
    {
     "data": {
      "text/plain": [
       "<torch._C.Generator at 0x7fcb40705590>"
      ]
     },
     "execution_count": 2,
     "metadata": {},
     "output_type": "execute_result"
    }
   ],
   "source": [
    "device = torch.device('cpu')\n",
    "torch.manual_seed(1)"
   ]
  },
  {
   "cell_type": "code",
   "execution_count": 3,
   "metadata": {},
   "outputs": [
    {
     "name": "stdout",
     "output_type": "stream",
     "text": [
      "torch.Size([64, 1, 28, 28])\n"
     ]
    },
    {
     "data": {
      "image/png": "[encoded data removed]",
      "text/plain": [
       "<Figure size 432x288 with 1 Axes>"
      ]
     },
     "metadata": {
      "needs_background": "light"
     },
     "output_type": "display_data"
    }
   ],
   "source": [
    "MNIST_data = torchvision.datasets.MNIST(root= './Datasets', download=True, transform = transforms.Compose([transforms.ToTensor(),\\\n",
    "transforms.Normalize((0.1307,), (0.3081, )) ]))\n",
    "data_loader = DataLoader(MNIST_data, batch_size=64, shuffle = True)\n",
    "test_loader = DataLoader(torchvision.datasets.MNIST('./Datasets', train=False, download=True,\n",
    "                             transform=torchvision.transforms.Compose([\n",
    "                               torchvision.transforms.ToTensor(),\n",
    "                               torchvision.transforms.Normalize(\n",
    "                                 (0.1307,), (0.3081,))\n",
    "                             ])), batch_size=10, shuffle = True)\n",
    "iterator = iter(data_loader)\n",
    "images, labels = iterator.next()\n",
    "plt.imshow(images[5].reshape(28, 28), cmap = \"gray\")\n",
    "print(images.shape)\n",
    "#learn more about matplotlib if you can !!\n",
    "#what is plt.imshow , how do i use it more efficiently"
   ]
  },
  {
   "cell_type": "code",
   "execution_count": 4,
   "metadata": {},
   "outputs": [
    {
     "name": "stdout",
     "output_type": "stream",
     "text": [
      "tensor([1.4850, 0.3013, 2.1469, 0.9632, 2.8088, 0.9632, 0.3777, 2.8088, 0.1613,\n",
      "        0.1104, 1.7523, 0.1740, 0.5049, 2.8088, 0.6959, 1.6887, 2.8088, 0.9632,\n",
      "        0.5049, 2.8088, 0.9632, 2.3505, 2.8215, 0.8359, 0.5049, 2.8088, 0.0340,\n",
      "        2.7324, 2.4142, 1.0395, 2.8088, 0.0340, 0.7086, 2.8088, 1.9560, 1.4214,\n",
      "        2.3505, 1.7523, 2.7960, 0.3777, 2.0832, 2.0832, 2.5415, 2.8088, 0.0467,\n",
      "        0.0467, 2.8088, 1.4214, 1.0395, 2.7960, 2.7960, 2.8088, 2.4015, 1.6887,\n",
      "        0.6322, 0.0467, 2.7960, 1.4214, 1.4214, 2.8088, 1.0904, 1.1668, 1.6887,\n",
      "        2.5542, 2.8088, 2.8088, 2.2742, 2.2869, 2.8088, 1.1032, 1.4214, 2.7960,\n",
      "        0.0340, 1.3450, 1.3450, 1.6123, 2.5415, 2.7960, 2.8088, 2.6687, 0.1104,\n",
      "        0.9123, 1.8160, 2.5542, 2.1469, 0.1104, 2.8088, 1.3450, 1.0395, 2.8088,\n",
      "        0.3013, 2.3378, 2.4142, 2.3505, 1.9560, 2.3378, 1.4214])\n"
     ]
    }
   ],
   "source": [
    "print(images[0][0][np.where(images[0].reshape(28, 28) > 0)])"
   ]
  },
  {
   "cell_type": "code",
   "execution_count": 5,
   "metadata": {},
   "outputs": [
    {
     "data": {
      "image/png": "[encoded data removed]",
      "text/plain": [
       "<Figure size 432x288 with 6 Axes>"
      ]
     },
     "metadata": {
      "needs_background": "light"
     },
     "output_type": "display_data"
    }
   ],
   "source": [
    "fig = plt.figure()\n",
    "for i in range(6):\n",
    "  plt.subplot(2,3,i+1)\n",
    "  plt.tight_layout()\n",
    "  plt.imshow(images[i][0], cmap='gray', interpolation='none')\n",
    "  plt.title(\"Ground Truth: {}\".format(labels[i]))\n",
    "#   plt.xticks([])\n",
    "#   plt.yticks([])"
   ]
  },
  {
   "cell_type": "code",
   "execution_count": 6,
   "metadata": {},
   "outputs": [],
   "source": [
    "class net(torch.nn.Module):\n",
    "    def __init__(self):\n",
    "        super(net, self).__init__()\n",
    "        self.conv1 = nn.Conv2d(1, 10 , kernel_size=5)\n",
    "        self.conv2 = nn.Conv2d(10, 20, kernel_size=5)\n",
    "        self.conv2_drop = nn.Dropout2d()\n",
    "        self.fc1 = nn.Linear(320, 50)\n",
    "        self.fc2 = nn.Linear(50, 10)\n",
    "    def forward(self, x):\n",
    "        x = F.relu(F.max_pool2d(self.conv1(x), 2))\n",
    "        x = F.relu(F.max_pool2d(self.conv2_drop(self.conv2(x)), 2))\n",
    "        x = x.view(-1, 320) \n",
    "        x = F.relu(self.fc1(x))\n",
    "        x = F.dropout(x, training= self.training) # this dropout obviously occurs ony during the training phase\n",
    "        x = self.fc2(x) # => ooutput will be n , 10 \n",
    "        return F.log_softmax(x)"
   ]
  },
  {
   "cell_type": "code",
   "execution_count": 7,
   "metadata": {},
   "outputs": [],
   "source": [
    "# 28 - 5 + 1 = 24 -> 24 - 2 + 1 = 23 ->  23 -5 + 1 = 19 -> 19 - 2 + 1 -> 18 -> 324 somehoww , not a square of a number bro ! \n"
   ]
  },
  {
   "cell_type": "code",
   "execution_count": 8,
   "metadata": {},
   "outputs": [],
   "source": [
    "NeuralNet = net()\n",
    "opt = torch.optim.SGD(NeuralNet.parameters(), lr = 1.2e-3)\n",
    "log_interval = 100\n",
    "train_loss_history= []\n",
    "train_counter= []\n",
    "test_loss_history = []\n",
    "test_counter = []\n",
    "#amazing way of storing the losses , using the batch id !\n",
    "\n"
   ]
  },
  {
   "cell_type": "code",
   "execution_count": 9,
   "metadata": {},
   "outputs": [],
   "source": [
    "def train(epoch):\n",
    "    #every element in images is a batch, the data loader gives you a batch outside!\n",
    "    NeuralNet.train() # sets the training mode !\n",
    "    for batch_id,(batch,labels) in enumerate(data_loader):\n",
    "        opt.zero_grad() ###super important, work with the optimizer instead of the model\n",
    "        y_pred = NeuralNet(batch)\n",
    "        loss_fn = F.nll_loss # => this takes the class number !!\n",
    "        loss = loss_fn(y_pred,labels)\n",
    "        loss.backward()\n",
    "        opt.step()\n",
    "        if(batch_id % log_interval == 0):\n",
    "            counter = 64*(batch_id)  + (epoch - 1)*len(data_loader.dataset) #very cool , what is this train_loader.dataset ( prolly only the second part)\n",
    "            train_loss_history.append(loss.item())\n",
    "            print(\"Epoch = %d, training counter = %d, training loss = %.6f, \"%(epoch,counter,loss.item()))\n",
    "            train_counter.append(counter)    \n"
   ]
  },
  {
   "cell_type": "code",
   "execution_count": 10,
   "metadata": {},
   "outputs": [],
   "source": [
    "def test():\n",
    "    NeuralNet.eval() #this is now in evaluation mode \n",
    "    loss = 0\n",
    "    correct = 0\n",
    "    avg_loss = 0\n",
    "    for test_data, labels in test_loader:\n",
    "        preds = NeuralNet(test_data)\n",
    "        loss = F.nll_loss(preds,labels)\n",
    "        correct = correct + (torch.argmax(preds, axis = 1) == labels).sum()\n",
    "        avg_loss += loss/len(test_loader.dataset)\n",
    "        test_loss_history.append(loss)\n",
    "    print('\\nTest set: Avg. loss: {:.4f}, Accuracy: {}/{} ({:.0f}%)\\n'.format(\n",
    "    loss, correct, len(test_loader.dataset),\n",
    "    100. * correct / len(test_loader.dataset)))\n"
   ]
  },
  {
   "cell_type": "code",
   "execution_count": 11,
   "metadata": {},
   "outputs": [
    {
     "data": {
      "text/plain": [
       "10000"
      ]
     },
     "execution_count": 11,
     "metadata": {},
     "output_type": "execute_result"
    }
   ],
   "source": [
    "len(test_loader.dataset)"
   ]
  },
  {
   "cell_type": "code",
   "execution_count": 12,
   "metadata": {},
   "outputs": [
    {
     "data": {
      "text/plain": [
       "torch.Size([1])"
      ]
     },
     "execution_count": 12,
     "metadata": {},
     "output_type": "execute_result"
    }
   ],
   "source": [
    "F.nll_loss(torch.randn(3, 5), torch.tensor([1, 2, 3]))# at least one dimension must match! \n",
    "torch.argmax(torch.tensor([1, 2, 3]) , axis = 0, keepdim = True).shape "
   ]
  },
  {
   "cell_type": "code",
   "execution_count": 13,
   "metadata": {},
   "outputs": [
    {
     "name": "stderr",
     "output_type": "stream",
     "text": [
      "/tmp/ipykernel_48136/3904927278.py:16: UserWarning: Implicit dimension choice for log_softmax has been deprecated. Change the call to include dim=X as an argument.\n",
      "  return F.log_softmax(x)\n"
     ]
    },
    {
     "name": "stdout",
     "output_type": "stream",
     "text": [
      "\n",
      "Test set: Avg. loss: 2.3798, Accuracy: 924/10000 (9%)\n",
      "\n",
      "Epoch = 1, training counter = 0, training loss = 2.342138, \n",
      "Epoch = 1, training counter = 6400, training loss = 2.327022, \n",
      "Epoch = 1, training counter = 12800, training loss = 2.282116, \n",
      "Epoch = 1, training counter = 19200, training loss = 2.298983, \n",
      "Epoch = 1, training counter = 25600, training loss = 2.286688, \n",
      "Epoch = 1, training counter = 32000, training loss = 2.249655, \n",
      "Epoch = 1, training counter = 38400, training loss = 2.272996, \n",
      "Epoch = 1, training counter = 44800, training loss = 2.225666, \n",
      "Epoch = 1, training counter = 51200, training loss = 2.211878, \n",
      "Epoch = 1, training counter = 57600, training loss = 2.252531, \n",
      "Time taken for epochs =  12.505971670150757\n",
      "\n",
      "Test set: Avg. loss: 2.0889, Accuracy: 5232/10000 (52%)\n",
      "\n",
      "Epoch = 2, training counter = 60000, training loss = 2.221323, \n",
      "Epoch = 2, training counter = 66400, training loss = 2.164381, \n",
      "Epoch = 2, training counter = 72800, training loss = 2.098022, \n",
      "Epoch = 2, training counter = 79200, training loss = 2.103770, \n",
      "Epoch = 2, training counter = 85600, training loss = 2.080326, \n",
      "Epoch = 2, training counter = 92000, training loss = 2.024582, \n",
      "Epoch = 2, training counter = 98400, training loss = 1.925787, \n",
      "Epoch = 2, training counter = 104800, training loss = 1.976990, \n",
      "Epoch = 2, training counter = 111200, training loss = 1.754808, \n",
      "Epoch = 2, training counter = 117600, training loss = 1.704376, \n",
      "Time taken for epochs =  13.759052038192749\n",
      "\n",
      "Test set: Avg. loss: 1.4097, Accuracy: 7155/10000 (72%)\n",
      "\n",
      "Epoch = 3, training counter = 120000, training loss = 1.615666, \n",
      "Epoch = 3, training counter = 126400, training loss = 1.636826, \n",
      "Epoch = 3, training counter = 132800, training loss = 1.502553, \n",
      "Epoch = 3, training counter = 139200, training loss = 1.498375, \n",
      "Epoch = 3, training counter = 145600, training loss = 1.390937, \n",
      "Epoch = 3, training counter = 152000, training loss = 1.435261, \n",
      "Epoch = 3, training counter = 158400, training loss = 1.433542, \n",
      "Epoch = 3, training counter = 164800, training loss = 1.242235, \n",
      "Epoch = 3, training counter = 171200, training loss = 1.235242, \n",
      "Epoch = 3, training counter = 177600, training loss = 1.100458, \n",
      "Time taken for epochs =  12.995930433273315\n",
      "\n",
      "Test set: Avg. loss: 1.0415, Accuracy: 8396/10000 (84%)\n",
      "\n"
     ]
    }
   ],
   "source": [
    "# for batch_id,(batch_data, labels) in enumerate(data_loader):\n",
    "#     print(torch.argmax(NeuralNet(batch_data), axis = 1)== labels) #turns out the keepdim will keep the dim !, dont use keepdim unless necessary !\n",
    "test()\n",
    "num_epochs = 3\n",
    "for epoch in range(1,num_epochs + 1):\n",
    "    start_time = time.time()\n",
    "    train(epoch)\n",
    "    end_time = time.time()\n",
    "    print(\"Time taken for epochs = \", end_time - start_time)\n",
    "    test()\n"
   ]
  },
  {
   "cell_type": "code",
   "execution_count": 14,
   "metadata": {},
   "outputs": [
    {
     "name": "stderr",
     "output_type": "stream",
     "text": [
      "/tmp/ipykernel_48136/3904927278.py:16: UserWarning: Implicit dimension choice for log_softmax has been deprecated. Change the call to include dim=X as an argument.\n",
      "  return F.log_softmax(x)\n"
     ]
    },
    {
     "name": "stdout",
     "output_type": "stream",
     "text": [
      "\n",
      "Test set: Avg. loss: 0.7945, Accuracy: 8396/10000 (84%)\n",
      "\n"
     ]
    }
   ],
   "source": [
    "test()"
   ]
  },
  {
   "cell_type": "code",
   "execution_count": 15,
   "metadata": {},
   "outputs": [
    {
     "name": "stdout",
     "output_type": "stream",
     "text": [
      "<class 'list'>\n"
     ]
    },
    {
     "data": {
      "text/plain": [
       "Text(0.5, 1.0, 'Training Loss per batch versus number of examples seen')"
      ]
     },
     "execution_count": 15,
     "metadata": {},
     "output_type": "execute_result"
    },
    {
     "data": {
      "image/png": "[encoded data removed]",
      "text/plain": [
       "<Figure size 432x288 with 1 Axes>"
      ]
     },
     "metadata": {
      "needs_background": "light"
     },
     "output_type": "display_data"
    }
   ],
   "source": [
    "plt.plot(train_counter, train_loss_history)\n",
    "print(type(train_counter))\n",
    "plt.title(\"Training Loss per batch versus number of examples seen\")"
   ]
  },
  {
   "cell_type": "code",
   "execution_count": 16,
   "metadata": {},
   "outputs": [],
   "source": [
    "# for batch_id,(_,_) in enumerate(data_loader):\n",
    "#     print(batch_id) # 0 - indexd !\n",
    "import matplotlib.pyplot  as plt2\n",
    "listx = [i for i in range(1, len(test_loss_history) + 1)]\n"
   ]
  }
 ],
 "metadata": {
  "kernelspec": {
   "display_name": "Python 3.9.12 ('base')",
   "language": "python",
   "name": "python3"
  },
  "language_info": {
   "codemirror_mode": {
    "name": "ipython",
    "version": 3
   },
   "file_extension": ".py",
   "mimetype": "text/x-python",
   "name": "python",
   "nbconvert_exporter": "python",
   "pygments_lexer": "ipython3",
   "version": "3.9.12"
  },
  "orig_nbformat": 4,
  "vscode": {
   "interpreter": {
    "hash": "8201e9342a4a492ddbd4e81efec90b2ccf0d205cda2cc39ac893f0c43374b5e0"
   }
  }
 },
 "nbformat": 4,
 "nbformat_minor": 2
}
