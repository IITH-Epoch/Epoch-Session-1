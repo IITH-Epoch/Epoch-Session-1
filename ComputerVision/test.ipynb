{
 "cells": [
  {
   "cell_type": "code",
   "execution_count": 1,
   "metadata": {},
   "outputs": [],
   "source": [
    "import torch\n",
    "import torchvision\n",
    "import torchvision.transforms as transforms\n",
    "import matplotlib.pyplot as plt\n",
    "from torch.utils.data import DataLoader,Dataset\n",
    "import numpy as np\n",
    "import torch.nn as nn\n",
    "import torch.nn.functional as F"
   ]
  },
  {
   "cell_type": "code",
   "execution_count": 2,
   "metadata": {},
   "outputs": [
    {
     "data": {
      "text/plain": [
       "<torch._C.Generator at 0x7ff91f481ed0>"
      ]
     },
     "execution_count": 2,
     "metadata": {},
     "output_type": "execute_result"
    }
   ],
   "source": [
    "device = torch.device('cpu')\n",
    "torch.manual_seed(1)"
   ]
  },
  {
   "cell_type": "code",
   "execution_count": 3,
   "metadata": {},
   "outputs": [
    {
     "name": "stdout",
     "output_type": "stream",
     "text": [
      "torch.Size([64, 1, 28, 28])\n"
     ]
    },
    {
     "data": {
      "image/png": "[encoded data removed]",
      "text/plain": [
       "<Figure size 432x288 with 1 Axes>"
      ]
     },
     "metadata": {
      "needs_background": "light"
     },
     "output_type": "display_data"
    }
   ],
   "source": [
    "MNIST_data = torchvision.datasets.MNIST(root= './Datasets', download=True, transform = transforms.Compose([transforms.ToTensor(),\\\n",
    "transforms.Normalize((0.1307,), (0.3081, )) ]))\n",
    "data_loader = DataLoader(MNIST_data, batch_size=64, shuffle = True)\n",
    "test_loader = DataLoader(torchvision.datasets.MNIST('./Datasets', train=False, download=True,\n",
    "                             transform=torchvision.transforms.Compose([\n",
    "                               torchvision.transforms.ToTensor(),\n",
    "                               torchvision.transforms.Normalize(\n",
    "                                 (0.1307,), (0.3081,))\n",
    "                             ])), batch_size=10, shuffle = True)\n",
    "iterator = iter(data_loader)\n",
    "images, labels = iterator.next()\n",
    "plt.imshow(images[5].reshape(28, 28), cmap = \"gray\")\n",
    "print(images.shape)\n",
    "#learn more about matplotlib if you can !!\n",
    "#what is plt.imshow , how do i use it more efficiently"
   ]
  },
  {
   "cell_type": "code",
   "execution_count": 4,
   "metadata": {},
   "outputs": [
    {
     "name": "stdout",
     "output_type": "stream",
     "text": [
      "tensor([1.4850, 0.3013, 2.1469, 0.9632, 2.8088, 0.9632, 0.3777, 2.8088, 0.1613,\n",
      "        0.1104, 1.7523, 0.1740, 0.5049, 2.8088, 0.6959, 1.6887, 2.8088, 0.9632,\n",
      "        0.5049, 2.8088, 0.9632, 2.3505, 2.8215, 0.8359, 0.5049, 2.8088, 0.0340,\n",
      "        2.7324, 2.4142, 1.0395, 2.8088, 0.0340, 0.7086, 2.8088, 1.9560, 1.4214,\n",
      "        2.3505, 1.7523, 2.7960, 0.3777, 2.0832, 2.0832, 2.5415, 2.8088, 0.0467,\n",
      "        0.0467, 2.8088, 1.4214, 1.0395, 2.7960, 2.7960, 2.8088, 2.4015, 1.6887,\n",
      "        0.6322, 0.0467, 2.7960, 1.4214, 1.4214, 2.8088, 1.0904, 1.1668, 1.6887,\n",
      "        2.5542, 2.8088, 2.8088, 2.2742, 2.2869, 2.8088, 1.1032, 1.4214, 2.7960,\n",
      "        0.0340, 1.3450, 1.3450, 1.6123, 2.5415, 2.7960, 2.8088, 2.6687, 0.1104,\n",
      "        0.9123, 1.8160, 2.5542, 2.1469, 0.1104, 2.8088, 1.3450, 1.0395, 2.8088,\n",
      "        0.3013, 2.3378, 2.4142, 2.3505, 1.9560, 2.3378, 1.4214])\n"
     ]
    }
   ],
   "source": [
    "print(images[0][0][np.where(images[0].reshape(28, 28) > 0)])"
   ]
  },
  {
   "cell_type": "code",
   "execution_count": 5,
   "metadata": {},
   "outputs": [
    {
     "data": {
      "image/png": "[encoded data removed]",
      "text/plain": [
       "<Figure size 432x288 with 6 Axes>"
      ]
     },
     "metadata": {
      "needs_background": "light"
     },
     "output_type": "display_data"
    }
   ],
   "source": [
    "fig = plt.figure()\n",
    "for i in range(6):\n",
    "  plt.subplot(2,3,i+1)\n",
    "  plt.tight_layout()\n",
    "  plt.imshow(images[i][0], cmap='gray', interpolation='none')\n",
    "  plt.title(\"Ground Truth: {}\".format(labels[i]))\n",
    "#   plt.xticks([])\n",
    "#   plt.yticks([])"
   ]
  },
  {
   "cell_type": "code",
   "execution_count": 6,
   "metadata": {},
   "outputs": [],
   "source": [
    "class net(torch.nn.Module):\n",
    "    def __init__(self):\n",
    "        super(net, self).__init__()\n",
    "        self.conv1 = nn.Conv2d(1, 10 , kernel_size=5)\n",
    "        self.conv2 = nn.Conv2d(10, 20, kernel_size=5)\n",
    "        self.conv2_drop = nn.Dropout2d()\n",
    "        self.fc1 = nn.Linear(320, 50)\n",
    "        self.fc2 = nn.Linear(50, 10)\n",
    "    def forward(self, x):\n",
    "        x = F.relu(F.max_pool2d(self.conv1(x), 2))\n",
    "        x = F.relu(F.max_pool2d(self.conv2_drop(self.conv2(x)), 2))\n",
    "        x = x.view(-1, 320) \n",
    "        x = F.relu(self.fc1(x))\n",
    "        x = F.dropout(x, training= self.training) # this dropout obviously occurs ony during the training phase\n",
    "        x = self.fc2(x) # => ooutput will be n , 10 \n",
    "        return F.log_softmax(x)"
   ]
  },
  {
   "cell_type": "code",
   "execution_count": 7,
   "metadata": {},
   "outputs": [],
   "source": [
    "# 28 - 5 + 1 = 24 -> 24 - 2 + 1 = 23 ->  23 -5 + 1 = 19 -> 19 - 2 + 1 -> 18 -> 324 somehoww , not a square of a number bro ! \n"
   ]
  },
  {
   "cell_type": "code",
   "execution_count": 8,
   "metadata": {},
   "outputs": [],
   "source": [
    "NeuralNet = net()\n",
    "opt = torch.optim.SGD(NeuralNet.parameters(), lr = 1.2e-3)\n",
    "log_interval = 10\n",
    "train_loss_history= []\n",
    "train_counter= []\n",
    "test_loss_history = []\n",
    "test_counter = []\n",
    "#amazing way of storing the losses , using the batch id !\n",
    "\n"
   ]
  },
  {
   "cell_type": "code",
   "execution_count": 9,
   "metadata": {},
   "outputs": [],
   "source": [
    "def train(epoch):\n",
    "    #every element in images is a batch, the data loader gives you a batch outside!\n",
    "    NeuralNet.train() # sets the training mode !\n",
    "    for batch_id,(batch,labels) in enumerate(data_loader):\n",
    "        opt.zero_grad() ###super important, work with the optimizer instead of the model\n",
    "        y_pred = NeuralNet(batch)\n",
    "        loss_fn = F.nll_loss # => this takes the class number !!\n",
    "        loss = loss_fn(y_pred,labels)\n",
    "        loss.backward()\n",
    "        opt.step()\n",
    "        if(batch_id % log_interval == 0):\n",
    "            counter = 64*(batch_id)  + (epoch - 1)*len(data_loader.dataset) #very cool , what is this train_loader.dataset ( prolly only the second part)\n",
    "            train_loss_history.append(loss.item())\n",
    "            print(\"Epoch = %d, training counter = %d, training loss = %.6f, \"%(epoch,counter,loss.item()))\n",
    "            train_counter.append(counter)    \n"
   ]
  },
  {
   "cell_type": "code",
   "execution_count": 10,
   "metadata": {},
   "outputs": [],
   "source": [
    "def test():\n",
    "    NeuralNet.eval() #this is now in evaluation mode \n",
    "    loss = 0\n",
    "    correct = 0\n",
    "    avg_loss = 0\n",
    "    for test_data, labels in test_loader:\n",
    "        preds = NeuralNet(test_data)\n",
    "        loss = F.nll_loss(preds,labels)\n",
    "        correct = correct + (torch.argmax(preds, axis = 1) == labels).sum()\n",
    "        avg_loss += loss/len(test_loader.dataset)\n",
    "        test_loss_history.append(loss)\n",
    "    print('\\nTest set: Avg. loss: {:.4f}, Accuracy: {}/{} ({:.0f}%)\\n'.format(\n",
    "    loss, correct, len(test_loader.dataset),\n",
    "    100. * correct / len(test_loader.dataset)))\n"
   ]
  },
  {
   "cell_type": "code",
   "execution_count": 11,
   "metadata": {},
   "outputs": [
    {
     "data": {
      "text/plain": [
       "10000"
      ]
     },
     "execution_count": 11,
     "metadata": {},
     "output_type": "execute_result"
    }
   ],
   "source": [
    "len(test_loader.dataset)"
   ]
  },
  {
   "cell_type": "code",
   "execution_count": 12,
   "metadata": {},
   "outputs": [
    {
     "data": {
      "text/plain": [
       "torch.Size([1])"
      ]
     },
     "execution_count": 12,
     "metadata": {},
     "output_type": "execute_result"
    }
   ],
   "source": [
    "F.nll_loss(torch.randn(3, 5), torch.tensor([1, 2, 3]))# at least one dimension must match! \n",
    "torch.argmax(torch.tensor([1, 2, 3]) , axis = 0, keepdim = True).shape "
   ]
  },
  {
   "cell_type": "code",
   "execution_count": 13,
   "metadata": {},
   "outputs": [
    {
     "name": "stderr",
     "output_type": "stream",
     "text": [
      "/tmp/ipykernel_41780/3904927278.py:16: UserWarning: Implicit dimension choice for log_softmax has been deprecated. Change the call to include dim=X as an argument.\n",
      "  return F.log_softmax(x)\n"
     ]
    },
    {
     "name": "stdout",
     "output_type": "stream",
     "text": [
      "\n",
      "Test set: Avg. loss: 2.3798, Accuracy: 924/10000 (9%)\n",
      "\n",
      "Epoch = 1, training counter = 0, training loss = 2.342138, \n",
      "Epoch = 1, training counter = 640, training loss = 2.324310, \n",
      "Epoch = 1, training counter = 1280, training loss = 2.308998, \n",
      "Epoch = 1, training counter = 1920, training loss = 2.333561, \n",
      "Epoch = 1, training counter = 2560, training loss = 2.304608, \n",
      "Epoch = 1, training counter = 3200, training loss = 2.325398, \n",
      "Epoch = 1, training counter = 3840, training loss = 2.304084, \n",
      "Epoch = 1, training counter = 4480, training loss = 2.283278, \n",
      "Epoch = 1, training counter = 5120, training loss = 2.249707, \n",
      "Epoch = 1, training counter = 5760, training loss = 2.325066, \n",
      "Epoch = 1, training counter = 6400, training loss = 2.327022, \n",
      "Epoch = 1, training counter = 7040, training loss = 2.283353, \n",
      "Epoch = 1, training counter = 7680, training loss = 2.312730, \n",
      "Epoch = 1, training counter = 8320, training loss = 2.294002, \n",
      "Epoch = 1, training counter = 8960, training loss = 2.302876, \n",
      "Epoch = 1, training counter = 9600, training loss = 2.317348, \n",
      "Epoch = 1, training counter = 10240, training loss = 2.296994, \n",
      "Epoch = 1, training counter = 10880, training loss = 2.265678, \n",
      "Epoch = 1, training counter = 11520, training loss = 2.294987, \n",
      "Epoch = 1, training counter = 12160, training loss = 2.306106, \n",
      "Epoch = 1, training counter = 12800, training loss = 2.282116, \n",
      "Epoch = 1, training counter = 13440, training loss = 2.309596, \n",
      "Epoch = 1, training counter = 14080, training loss = 2.302159, \n",
      "Epoch = 1, training counter = 14720, training loss = 2.268588, \n",
      "Epoch = 1, training counter = 15360, training loss = 2.283292, \n",
      "Epoch = 1, training counter = 16000, training loss = 2.294533, \n",
      "Epoch = 1, training counter = 16640, training loss = 2.317559, \n",
      "Epoch = 1, training counter = 17280, training loss = 2.258958, \n",
      "Epoch = 1, training counter = 17920, training loss = 2.323098, \n",
      "Epoch = 1, training counter = 18560, training loss = 2.294399, \n",
      "Epoch = 1, training counter = 19200, training loss = 2.298982, \n",
      "Epoch = 1, training counter = 19840, training loss = 2.270020, \n",
      "Epoch = 1, training counter = 20480, training loss = 2.281393, \n",
      "Epoch = 1, training counter = 21120, training loss = 2.273104, \n",
      "Epoch = 1, training counter = 21760, training loss = 2.273728, \n",
      "Epoch = 1, training counter = 22400, training loss = 2.267796, \n",
      "Epoch = 1, training counter = 23040, training loss = 2.334390, \n",
      "Epoch = 1, training counter = 23680, training loss = 2.302207, \n",
      "Epoch = 1, training counter = 24320, training loss = 2.296360, \n",
      "Epoch = 1, training counter = 24960, training loss = 2.271872, \n",
      "Epoch = 1, training counter = 25600, training loss = 2.286683, \n",
      "Epoch = 1, training counter = 26240, training loss = 2.281815, \n",
      "Epoch = 1, training counter = 26880, training loss = 2.242276, \n",
      "Epoch = 1, training counter = 27520, training loss = 2.294328, \n",
      "Epoch = 1, training counter = 28160, training loss = 2.275270, \n",
      "Epoch = 1, training counter = 28800, training loss = 2.285700, \n",
      "Epoch = 1, training counter = 29440, training loss = 2.281577, \n",
      "Epoch = 1, training counter = 30080, training loss = 2.267237, \n",
      "Epoch = 1, training counter = 30720, training loss = 2.263290, \n",
      "Epoch = 1, training counter = 31360, training loss = 2.286422, \n",
      "Epoch = 1, training counter = 32000, training loss = 2.249662, \n",
      "Epoch = 1, training counter = 32640, training loss = 2.230967, \n",
      "Epoch = 1, training counter = 33280, training loss = 2.260108, \n",
      "Epoch = 1, training counter = 33920, training loss = 2.261732, \n",
      "Epoch = 1, training counter = 34560, training loss = 2.238911, \n",
      "Epoch = 1, training counter = 35200, training loss = 2.299002, \n",
      "Epoch = 1, training counter = 35840, training loss = 2.267409, \n",
      "Epoch = 1, training counter = 36480, training loss = 2.260703, \n",
      "Epoch = 1, training counter = 37120, training loss = 2.254694, \n",
      "Epoch = 1, training counter = 37760, training loss = 2.277549, \n",
      "Epoch = 1, training counter = 38400, training loss = 2.272987, \n",
      "Epoch = 1, training counter = 39040, training loss = 2.253372, \n",
      "Epoch = 1, training counter = 39680, training loss = 2.249139, \n",
      "Epoch = 1, training counter = 40320, training loss = 2.231032, \n",
      "Epoch = 1, training counter = 40960, training loss = 2.266595, \n",
      "Epoch = 1, training counter = 41600, training loss = 2.267529, \n",
      "Epoch = 1, training counter = 42240, training loss = 2.250763, \n",
      "Epoch = 1, training counter = 42880, training loss = 2.231219, \n",
      "Epoch = 1, training counter = 43520, training loss = 2.219504, \n",
      "Epoch = 1, training counter = 44160, training loss = 2.216910, \n",
      "Epoch = 1, training counter = 44800, training loss = 2.225631, \n",
      "Epoch = 1, training counter = 45440, training loss = 2.235318, \n",
      "Epoch = 1, training counter = 46080, training loss = 2.198857, \n",
      "Epoch = 1, training counter = 46720, training loss = 2.244922, \n",
      "Epoch = 1, training counter = 47360, training loss = 2.259686, \n",
      "Epoch = 1, training counter = 48000, training loss = 2.238433, \n",
      "Epoch = 1, training counter = 48640, training loss = 2.258096, \n",
      "Epoch = 1, training counter = 49280, training loss = 2.222140, \n",
      "Epoch = 1, training counter = 49920, training loss = 2.242672, \n",
      "Epoch = 1, training counter = 50560, training loss = 2.247655, \n",
      "Epoch = 1, training counter = 51200, training loss = 2.211825, \n",
      "Epoch = 1, training counter = 51840, training loss = 2.245562, \n",
      "Epoch = 1, training counter = 52480, training loss = 2.208794, \n",
      "Epoch = 1, training counter = 53120, training loss = 2.202812, \n",
      "Epoch = 1, training counter = 53760, training loss = 2.177305, \n",
      "Epoch = 1, training counter = 54400, training loss = 2.257794, \n",
      "Epoch = 1, training counter = 55040, training loss = 2.194818, \n",
      "Epoch = 1, training counter = 55680, training loss = 2.242345, \n",
      "Epoch = 1, training counter = 56320, training loss = 2.222099, \n",
      "Epoch = 1, training counter = 56960, training loss = 2.183002, \n",
      "Epoch = 1, training counter = 57600, training loss = 2.252549, \n",
      "Epoch = 1, training counter = 58240, training loss = 2.230294, \n",
      "Epoch = 1, training counter = 58880, training loss = 2.245673, \n",
      "Epoch = 1, training counter = 59520, training loss = 2.247806, \n",
      "\n",
      "Test set: Avg. loss: 2.0888, Accuracy: 5225/10000 (52%)\n",
      "\n",
      "Epoch = 2, training counter = 60000, training loss = 2.221300, \n",
      "Epoch = 2, training counter = 60640, training loss = 2.195473, \n",
      "Epoch = 2, training counter = 61280, training loss = 2.207585, \n",
      "Epoch = 2, training counter = 61920, training loss = 2.214617, \n",
      "Epoch = 2, training counter = 62560, training loss = 2.209489, \n",
      "Epoch = 2, training counter = 63200, training loss = 2.184150, \n",
      "Epoch = 2, training counter = 63840, training loss = 2.171010, \n",
      "Epoch = 2, training counter = 64480, training loss = 2.165833, \n",
      "Epoch = 2, training counter = 65120, training loss = 2.192682, \n",
      "Epoch = 2, training counter = 65760, training loss = 2.146102, \n",
      "Epoch = 2, training counter = 66400, training loss = 2.164340, \n",
      "Epoch = 2, training counter = 67040, training loss = 2.158319, \n",
      "Epoch = 2, training counter = 67680, training loss = 2.155567, \n",
      "Epoch = 2, training counter = 68320, training loss = 2.148502, \n",
      "Epoch = 2, training counter = 68960, training loss = 2.192407, \n",
      "Epoch = 2, training counter = 69600, training loss = 2.147616, \n",
      "Epoch = 2, training counter = 70240, training loss = 2.107465, \n",
      "Epoch = 2, training counter = 70880, training loss = 2.172796, \n",
      "Epoch = 2, training counter = 71520, training loss = 2.151460, \n",
      "Epoch = 2, training counter = 72160, training loss = 2.099634, \n",
      "Epoch = 2, training counter = 72800, training loss = 2.097982, \n",
      "Epoch = 2, training counter = 73440, training loss = 2.127927, \n",
      "Epoch = 2, training counter = 74080, training loss = 2.137171, \n",
      "Epoch = 2, training counter = 74720, training loss = 2.111153, \n",
      "Epoch = 2, training counter = 75360, training loss = 2.161848, \n",
      "Epoch = 2, training counter = 76000, training loss = 2.088535, \n",
      "Epoch = 2, training counter = 76640, training loss = 2.133460, \n",
      "Epoch = 2, training counter = 77280, training loss = 2.138434, \n",
      "Epoch = 2, training counter = 77920, training loss = 2.074340, \n",
      "Epoch = 2, training counter = 78560, training loss = 2.102528, \n",
      "Epoch = 2, training counter = 79200, training loss = 2.103740, \n",
      "Epoch = 2, training counter = 79840, training loss = 2.129658, \n",
      "Epoch = 2, training counter = 80480, training loss = 2.021659, \n",
      "Epoch = 2, training counter = 81120, training loss = 2.102339, \n",
      "Epoch = 2, training counter = 81760, training loss = 2.004413, \n",
      "Epoch = 2, training counter = 82400, training loss = 2.090657, \n",
      "Epoch = 2, training counter = 83040, training loss = 2.054772, \n",
      "Epoch = 2, training counter = 83680, training loss = 2.108851, \n",
      "Epoch = 2, training counter = 84320, training loss = 2.140137, \n",
      "Epoch = 2, training counter = 84960, training loss = 2.040003, \n",
      "Epoch = 2, training counter = 85600, training loss = 2.080171, \n",
      "Epoch = 2, training counter = 86240, training loss = 2.004418, \n",
      "Epoch = 2, training counter = 86880, training loss = 2.014783, \n",
      "Epoch = 2, training counter = 87520, training loss = 1.955160, \n",
      "Epoch = 2, training counter = 88160, training loss = 2.131114, \n",
      "Epoch = 2, training counter = 88800, training loss = 2.054111, \n",
      "Epoch = 2, training counter = 89440, training loss = 1.935817, \n",
      "Epoch = 2, training counter = 90080, training loss = 2.000948, \n",
      "Epoch = 2, training counter = 90720, training loss = 2.079578, \n",
      "Epoch = 2, training counter = 91360, training loss = 2.013024, \n",
      "Epoch = 2, training counter = 92000, training loss = 2.024692, \n",
      "Epoch = 2, training counter = 92640, training loss = 1.975638, \n",
      "Epoch = 2, training counter = 93280, training loss = 2.022098, \n",
      "Epoch = 2, training counter = 93920, training loss = 1.877989, \n",
      "Epoch = 2, training counter = 94560, training loss = 2.030096, \n",
      "Epoch = 2, training counter = 95200, training loss = 1.965958, \n",
      "Epoch = 2, training counter = 95840, training loss = 1.948739, \n",
      "Epoch = 2, training counter = 96480, training loss = 2.006722, \n",
      "Epoch = 2, training counter = 97120, training loss = 1.981064, \n",
      "Epoch = 2, training counter = 97760, training loss = 1.956142, \n",
      "Epoch = 2, training counter = 98400, training loss = 1.925681, \n",
      "Epoch = 2, training counter = 99040, training loss = 1.930669, \n",
      "Epoch = 2, training counter = 99680, training loss = 1.935063, \n",
      "Epoch = 2, training counter = 100320, training loss = 1.874239, \n",
      "Epoch = 2, training counter = 100960, training loss = 1.957821, \n",
      "Epoch = 2, training counter = 101600, training loss = 1.901694, \n",
      "Epoch = 2, training counter = 102240, training loss = 1.920092, \n",
      "Epoch = 2, training counter = 102880, training loss = 1.931472, \n",
      "Epoch = 2, training counter = 103520, training loss = 1.844975, \n",
      "Epoch = 2, training counter = 104160, training loss = 1.859267, \n",
      "Epoch = 2, training counter = 104800, training loss = 1.976790, \n",
      "Epoch = 2, training counter = 105440, training loss = 1.824479, \n",
      "Epoch = 2, training counter = 106080, training loss = 1.774001, \n",
      "Epoch = 2, training counter = 106720, training loss = 1.815237, \n",
      "Epoch = 2, training counter = 107360, training loss = 1.897784, \n",
      "Epoch = 2, training counter = 108000, training loss = 1.902596, \n",
      "Epoch = 2, training counter = 108640, training loss = 1.656033, \n",
      "Epoch = 2, training counter = 109280, training loss = 1.834152, \n",
      "Epoch = 2, training counter = 109920, training loss = 1.735696, \n",
      "Epoch = 2, training counter = 110560, training loss = 1.909869, \n",
      "Epoch = 2, training counter = 111200, training loss = 1.754501, \n",
      "Epoch = 2, training counter = 111840, training loss = 1.804413, \n",
      "Epoch = 2, training counter = 112480, training loss = 1.726357, \n",
      "Epoch = 2, training counter = 113120, training loss = 1.769094, \n",
      "Epoch = 2, training counter = 113760, training loss = 1.612427, \n",
      "Epoch = 2, training counter = 114400, training loss = 1.684666, \n",
      "Epoch = 2, training counter = 115040, training loss = 1.875936, \n",
      "Epoch = 2, training counter = 115680, training loss = 1.725815, \n",
      "Epoch = 2, training counter = 116320, training loss = 1.793558, \n",
      "Epoch = 2, training counter = 116960, training loss = 1.636855, \n",
      "Epoch = 2, training counter = 117600, training loss = 1.704481, \n",
      "Epoch = 2, training counter = 118240, training loss = 1.612989, \n",
      "Epoch = 2, training counter = 118880, training loss = 1.636503, \n",
      "Epoch = 2, training counter = 119520, training loss = 1.726120, \n",
      "\n",
      "Test set: Avg. loss: 1.4091, Accuracy: 7159/10000 (72%)\n",
      "\n",
      "Epoch = 3, training counter = 120000, training loss = 1.615403, \n",
      "Epoch = 3, training counter = 120640, training loss = 1.607578, \n",
      "Epoch = 3, training counter = 121280, training loss = 1.700457, \n",
      "Epoch = 3, training counter = 121920, training loss = 1.727654, \n",
      "Epoch = 3, training counter = 122560, training loss = 1.588700, \n",
      "Epoch = 3, training counter = 123200, training loss = 1.747013, \n",
      "Epoch = 3, training counter = 123840, training loss = 1.608995, \n",
      "Epoch = 3, training counter = 124480, training loss = 1.623517, \n",
      "Epoch = 3, training counter = 125120, training loss = 1.582791, \n",
      "Epoch = 3, training counter = 125760, training loss = 1.786987, \n",
      "Epoch = 3, training counter = 126400, training loss = 1.636492, \n",
      "Epoch = 3, training counter = 127040, training loss = 1.745596, \n",
      "Epoch = 3, training counter = 127680, training loss = 1.702201, \n",
      "Epoch = 3, training counter = 128320, training loss = 1.494655, \n",
      "Epoch = 3, training counter = 128960, training loss = 1.776979, \n",
      "Epoch = 3, training counter = 129600, training loss = 1.773268, \n",
      "Epoch = 3, training counter = 130240, training loss = 1.649812, \n",
      "Epoch = 3, training counter = 130880, training loss = 1.631695, \n",
      "Epoch = 3, training counter = 131520, training loss = 1.522832, \n",
      "Epoch = 3, training counter = 132160, training loss = 1.540325, \n",
      "Epoch = 3, training counter = 132800, training loss = 1.502783, \n",
      "Epoch = 3, training counter = 133440, training loss = 1.375293, \n",
      "Epoch = 3, training counter = 134080, training loss = 1.542507, \n",
      "Epoch = 3, training counter = 134720, training loss = 1.567428, \n",
      "Epoch = 3, training counter = 135360, training loss = 1.557331, \n",
      "Epoch = 3, training counter = 136000, training loss = 1.663727, \n",
      "Epoch = 3, training counter = 136640, training loss = 1.473751, \n",
      "Epoch = 3, training counter = 137280, training loss = 1.429145, \n",
      "Epoch = 3, training counter = 137920, training loss = 1.482996, \n",
      "Epoch = 3, training counter = 138560, training loss = 1.385493, \n",
      "Epoch = 3, training counter = 139200, training loss = 1.498458, \n",
      "Epoch = 3, training counter = 139840, training loss = 1.398687, \n",
      "Epoch = 3, training counter = 140480, training loss = 1.492302, \n",
      "Epoch = 3, training counter = 141120, training loss = 1.299978, \n",
      "Epoch = 3, training counter = 141760, training loss = 1.435394, \n",
      "Epoch = 3, training counter = 142400, training loss = 1.472630, \n",
      "Epoch = 3, training counter = 143040, training loss = 1.703973, \n",
      "Epoch = 3, training counter = 143680, training loss = 1.328212, \n",
      "Epoch = 3, training counter = 144320, training loss = 1.444749, \n",
      "Epoch = 3, training counter = 144960, training loss = 1.625103, \n",
      "Epoch = 3, training counter = 145600, training loss = 1.390875, \n",
      "Epoch = 3, training counter = 146240, training loss = 1.218924, \n",
      "Epoch = 3, training counter = 146880, training loss = 1.440305, \n",
      "Epoch = 3, training counter = 147520, training loss = 1.371788, \n",
      "Epoch = 3, training counter = 148160, training loss = 1.431684, \n",
      "Epoch = 3, training counter = 148800, training loss = 1.201286, \n",
      "Epoch = 3, training counter = 149440, training loss = 1.213193, \n",
      "Epoch = 3, training counter = 150080, training loss = 1.396978, \n",
      "Epoch = 3, training counter = 150720, training loss = 1.464702, \n",
      "Epoch = 3, training counter = 151360, training loss = 1.535940, \n",
      "Epoch = 3, training counter = 152000, training loss = 1.435202, \n",
      "Epoch = 3, training counter = 152640, training loss = 1.315998, \n",
      "Epoch = 3, training counter = 153280, training loss = 1.262010, \n",
      "Epoch = 3, training counter = 153920, training loss = 1.428846, \n",
      "Epoch = 3, training counter = 154560, training loss = 1.212256, \n",
      "Epoch = 3, training counter = 155200, training loss = 1.308544, \n",
      "Epoch = 3, training counter = 155840, training loss = 1.308427, \n",
      "Epoch = 3, training counter = 156480, training loss = 1.467049, \n",
      "Epoch = 3, training counter = 157120, training loss = 1.163636, \n",
      "Epoch = 3, training counter = 157760, training loss = 1.266402, \n",
      "Epoch = 3, training counter = 158400, training loss = 1.433707, \n",
      "Epoch = 3, training counter = 159040, training loss = 1.319197, \n",
      "Epoch = 3, training counter = 159680, training loss = 1.433498, \n",
      "Epoch = 3, training counter = 160320, training loss = 1.476537, \n",
      "Epoch = 3, training counter = 160960, training loss = 1.622973, \n",
      "Epoch = 3, training counter = 161600, training loss = 1.464911, \n",
      "Epoch = 3, training counter = 162240, training loss = 1.033268, \n",
      "Epoch = 3, training counter = 162880, training loss = 1.057514, \n",
      "Epoch = 3, training counter = 163520, training loss = 1.196183, \n",
      "Epoch = 3, training counter = 164160, training loss = 1.287416, \n",
      "Epoch = 3, training counter = 164800, training loss = 1.241982, \n",
      "Epoch = 3, training counter = 165440, training loss = 1.236727, \n",
      "Epoch = 3, training counter = 166080, training loss = 1.284707, \n",
      "Epoch = 3, training counter = 166720, training loss = 1.163916, \n",
      "Epoch = 3, training counter = 167360, training loss = 1.429847, \n",
      "Epoch = 3, training counter = 168000, training loss = 1.348996, \n",
      "Epoch = 3, training counter = 168640, training loss = 1.247909, \n",
      "Epoch = 3, training counter = 169280, training loss = 1.168426, \n",
      "Epoch = 3, training counter = 169920, training loss = 1.331419, \n",
      "Epoch = 3, training counter = 170560, training loss = 1.308866, \n",
      "Epoch = 3, training counter = 171200, training loss = 1.234966, \n",
      "Epoch = 3, training counter = 171840, training loss = 1.315134, \n",
      "Epoch = 3, training counter = 172480, training loss = 1.264729, \n",
      "Epoch = 3, training counter = 173120, training loss = 1.361191, \n",
      "Epoch = 3, training counter = 173760, training loss = 1.239519, \n",
      "Epoch = 3, training counter = 174400, training loss = 1.307965, \n",
      "Epoch = 3, training counter = 175040, training loss = 1.333476, \n",
      "Epoch = 3, training counter = 175680, training loss = 1.332969, \n",
      "Epoch = 3, training counter = 176320, training loss = 1.289421, \n",
      "Epoch = 3, training counter = 176960, training loss = 1.159289, \n",
      "Epoch = 3, training counter = 177600, training loss = 1.100352, \n",
      "Epoch = 3, training counter = 178240, training loss = 1.319337, \n",
      "Epoch = 3, training counter = 178880, training loss = 1.342750, \n",
      "Epoch = 3, training counter = 179520, training loss = 1.200003, \n",
      "\n",
      "Test set: Avg. loss: 1.0407, Accuracy: 8402/10000 (84%)\n",
      "\n"
     ]
    }
   ],
   "source": [
    "# for batch_id,(batch_data, labels) in enumerate(data_loader):\n",
    "#     print(torch.argmax(NeuralNet(batch_data), axis = 1)== labels) #turns out the keepdim will keep the dim !, dont use keepdim unless necessary !\n",
    "test()\n",
    "num_epochs = 3\n",
    "for epoch in range(1,num_epochs + 1):\n",
    "    train(epoch)\n",
    "    test()\n"
   ]
  },
  {
   "cell_type": "code",
   "execution_count": 14,
   "metadata": {},
   "outputs": [
    {
     "name": "stderr",
     "output_type": "stream",
     "text": [
      "/tmp/ipykernel_41780/3904927278.py:16: UserWarning: Implicit dimension choice for log_softmax has been deprecated. Change the call to include dim=X as an argument.\n",
      "  return F.log_softmax(x)\n"
     ]
    },
    {
     "name": "stdout",
     "output_type": "stream",
     "text": [
      "\n",
      "Test set: Avg. loss: 0.7946, Accuracy: 8402/10000 (84%)\n",
      "\n"
     ]
    }
   ],
   "source": [
    "test()"
   ]
  },
  {
   "cell_type": "code",
   "execution_count": 15,
   "metadata": {},
   "outputs": [
    {
     "name": "stdout",
     "output_type": "stream",
     "text": [
      "<class 'list'>\n"
     ]
    },
    {
     "data": {
      "text/plain": [
       "Text(0.5, 1.0, 'Training Loss per batch versus number of examples seen')"
      ]
     },
     "execution_count": 15,
     "metadata": {},
     "output_type": "execute_result"
    },
    {
     "data": {
      "image/png": "[encoded data removed]",
      "text/plain": [
       "<Figure size 432x288 with 1 Axes>"
      ]
     },
     "metadata": {
      "needs_background": "light"
     },
     "output_type": "display_data"
    }
   ],
   "source": [
    "plt.plot(train_counter, train_loss_history)\n",
    "print(type(train_counter))\n",
    "plt.title(\"Training Loss per batch versus number of examples seen\")"
   ]
  },
  {
   "cell_type": "code",
   "execution_count": 16,
   "metadata": {},
   "outputs": [],
   "source": [
    "# for batch_id,(_,_) in enumerate(data_loader):\n",
    "#     print(batch_id) # 0 - indexd !\n",
    "import matplotlib.pyplot  as plt2\n",
    "listx = [i for i in range(1, len(test_loss_history) + 1)]\n"
   ]
  }
 ],
 "metadata": {
  "kernelspec": {
   "display_name": "Python 3.9.13 ('adaenv')",
   "language": "python",
   "name": "python3"
  },
  "language_info": {
   "codemirror_mode": {
    "name": "ipython",
    "version": 3
   },
   "file_extension": ".py",
   "mimetype": "text/x-python",
   "name": "python",
   "nbconvert_exporter": "python",
   "pygments_lexer": "ipython3",
   "version": "3.9.13"
  },
  "orig_nbformat": 4,
  "vscode": {
   "interpreter": {
    "hash": "3b4875b0c0e5921500ba89c3f7c140a0122aaa6b3aec3bf88d6de6cfd93ac7ec"
   }
  }
 },
 "nbformat": 4,
 "nbformat_minor": 2
}
